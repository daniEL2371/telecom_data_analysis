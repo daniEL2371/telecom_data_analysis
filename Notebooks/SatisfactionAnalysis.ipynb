{
 "cells": [
  {
   "cell_type": "code",
   "execution_count": 3,
   "id": "a145d75d",
   "metadata": {},
   "outputs": [],
   "source": [
    "import os\n",
    "import sys\n",
    "sys.path.append(os.path.abspath(os.path.join('../scripts')))\n",
    "import seaborn as sns\n",
    "import matplotlib.pyplot as plt\n",
    "%matplotlib inline\n",
    "\n",
    "import plotly.express as px"
   ]
  },
  {
   "cell_type": "code",
   "execution_count": 9,
   "id": "245b5710",
   "metadata": {},
   "outputs": [],
   "source": [
    "import numpy as np\n",
    "import pandas as pd\n",
    "from helper import TelecomHelper\n",
    "import plots\n",
    "from clean_telecom_df import CleanTelecomData\n",
    "\n",
    "pd.options.display.float_format = \"{:.6f}\".format"
   ]
  },
  {
   "cell_type": "code",
   "execution_count": 12,
   "id": "364f1864",
   "metadata": {},
   "outputs": [],
   "source": [
    "engagment_path = \"../data/user_engagement.csv\"\n",
    "experience_path = \"../data/user_experience_metrics.csv\""
   ]
  },
  {
   "cell_type": "code",
   "execution_count": 13,
   "id": "da06eb62",
   "metadata": {},
   "outputs": [
    {
     "name": "stdout",
     "output_type": "stream",
     "text": [
      "file read as csv\n",
      "file read as csv\n"
     ]
    }
   ],
   "source": [
    "Helper = TelecomHelper()\n",
    "\n",
    "user_engagement = Helper.read_csv(engagment_path)\n",
    "user_experience = Helper.read_csv(experience_path)\n",
    "\n"
   ]
  },
  {
   "cell_type": "code",
   "execution_count": 16,
   "id": "52c6ff4b",
   "metadata": {},
   "outputs": [
    {
     "data": {
      "text/html": [
       "<div>\n",
       "<style scoped>\n",
       "    .dataframe tbody tr th:only-of-type {\n",
       "        vertical-align: middle;\n",
       "    }\n",
       "\n",
       "    .dataframe tbody tr th {\n",
       "        vertical-align: top;\n",
       "    }\n",
       "\n",
       "    .dataframe thead th {\n",
       "        text-align: right;\n",
       "    }\n",
       "</style>\n",
       "<table border=\"1\" class=\"dataframe\">\n",
       "  <thead>\n",
       "    <tr style=\"text-align: right;\">\n",
       "      <th></th>\n",
       "      <th>sessions_frequency</th>\n",
       "      <th>duration</th>\n",
       "      <th>total_traffic</th>\n",
       "      <th>clusters</th>\n",
       "    </tr>\n",
       "  </thead>\n",
       "  <tbody>\n",
       "    <tr>\n",
       "      <th>0</th>\n",
       "      <td>1.000000</td>\n",
       "      <td>116720.000000</td>\n",
       "      <td>878690574.000000</td>\n",
       "      <td>cluser_3</td>\n",
       "    </tr>\n",
       "    <tr>\n",
       "      <th>1</th>\n",
       "      <td>1.000000</td>\n",
       "      <td>181230.000000</td>\n",
       "      <td>156859643.000000</td>\n",
       "      <td>cluser_2</td>\n",
       "    </tr>\n",
       "    <tr>\n",
       "      <th>2</th>\n",
       "      <td>1.000000</td>\n",
       "      <td>134969.000000</td>\n",
       "      <td>595966483.000000</td>\n",
       "      <td>cluser_2</td>\n",
       "    </tr>\n",
       "    <tr>\n",
       "      <th>3</th>\n",
       "      <td>1.000000</td>\n",
       "      <td>49878.000000</td>\n",
       "      <td>422320698.000000</td>\n",
       "      <td>cluser_3</td>\n",
       "    </tr>\n",
       "    <tr>\n",
       "      <th>4</th>\n",
       "      <td>2.000000</td>\n",
       "      <td>37104.000000</td>\n",
       "      <td>1457410944.000000</td>\n",
       "      <td>cluser_3</td>\n",
       "    </tr>\n",
       "  </tbody>\n",
       "</table>\n",
       "</div>"
      ],
      "text/plain": [
       "   sessions_frequency      duration     total_traffic  clusters\n",
       "0            1.000000 116720.000000  878690574.000000  cluser_3\n",
       "1            1.000000 181230.000000  156859643.000000  cluser_2\n",
       "2            1.000000 134969.000000  595966483.000000  cluser_2\n",
       "3            1.000000  49878.000000  422320698.000000  cluser_3\n",
       "4            2.000000  37104.000000 1457410944.000000  cluser_3"
      ]
     },
     "execution_count": 16,
     "metadata": {},
     "output_type": "execute_result"
    }
   ],
   "source": [
    "user_engagement.head()"
   ]
  },
  {
   "cell_type": "code",
   "execution_count": 18,
   "id": "fca9bf40",
   "metadata": {},
   "outputs": [
    {
     "data": {
      "text/html": [
       "<div>\n",
       "<style scoped>\n",
       "    .dataframe tbody tr th:only-of-type {\n",
       "        vertical-align: middle;\n",
       "    }\n",
       "\n",
       "    .dataframe tbody tr th {\n",
       "        vertical-align: top;\n",
       "    }\n",
       "\n",
       "    .dataframe thead th {\n",
       "        text-align: right;\n",
       "    }\n",
       "</style>\n",
       "<table border=\"1\" class=\"dataframe\">\n",
       "  <thead>\n",
       "    <tr style=\"text-align: right;\">\n",
       "      <th></th>\n",
       "      <th>avg_rtt_ms</th>\n",
       "      <th>avg_throughput_kbps</th>\n",
       "      <th>tcp_retrans_bytes</th>\n",
       "      <th>handset_type</th>\n",
       "      <th>clusters</th>\n",
       "    </tr>\n",
       "  </thead>\n",
       "  <tbody>\n",
       "    <tr>\n",
       "      <th>0</th>\n",
       "      <td>46.000000</td>\n",
       "      <td>76.000000</td>\n",
       "      <td>21825280.436430</td>\n",
       "      <td>Huawei P20 Lite Huawei Nova 3E</td>\n",
       "      <td>cluser_1</td>\n",
       "    </tr>\n",
       "    <tr>\n",
       "      <th>1</th>\n",
       "      <td>31.000000</td>\n",
       "      <td>99.000000</td>\n",
       "      <td>21825280.436430</td>\n",
       "      <td>Apple iPhone 7 (A1778)</td>\n",
       "      <td>cluser_1</td>\n",
       "    </tr>\n",
       "    <tr>\n",
       "      <th>2</th>\n",
       "      <td>123.593439</td>\n",
       "      <td>97.000000</td>\n",
       "      <td>21825280.436430</td>\n",
       "      <td>Apple iPhone 7 Plus (A1784)</td>\n",
       "      <td>cluser_1</td>\n",
       "    </tr>\n",
       "    <tr>\n",
       "      <th>3</th>\n",
       "      <td>84.000000</td>\n",
       "      <td>248.000000</td>\n",
       "      <td>773968.274842</td>\n",
       "      <td>Apple iPhone 5S (A1457)</td>\n",
       "      <td>cluser_3</td>\n",
       "    </tr>\n",
       "    <tr>\n",
       "      <th>4</th>\n",
       "      <td>119.000000</td>\n",
       "      <td>56844.000000</td>\n",
       "      <td>31196112.436430</td>\n",
       "      <td>Apple iPhone Se (A1723)</td>\n",
       "      <td>cluser_2</td>\n",
       "    </tr>\n",
       "  </tbody>\n",
       "</table>\n",
       "</div>"
      ],
      "text/plain": [
       "   avg_rtt_ms  avg_throughput_kbps  tcp_retrans_bytes  \\\n",
       "0   46.000000            76.000000    21825280.436430   \n",
       "1   31.000000            99.000000    21825280.436430   \n",
       "2  123.593439            97.000000    21825280.436430   \n",
       "3   84.000000           248.000000      773968.274842   \n",
       "4  119.000000         56844.000000    31196112.436430   \n",
       "\n",
       "                     handset_type  clusters  \n",
       "0  Huawei P20 Lite Huawei Nova 3E  cluser_1  \n",
       "1          Apple iPhone 7 (A1778)  cluser_1  \n",
       "2     Apple iPhone 7 Plus (A1784)  cluser_1  \n",
       "3         Apple iPhone 5S (A1457)  cluser_3  \n",
       "4         Apple iPhone Se (A1723)  cluser_2  "
      ]
     },
     "execution_count": 18,
     "metadata": {},
     "output_type": "execute_result"
    }
   ],
   "source": [
    "user_experience.head()"
   ]
  },
  {
   "cell_type": "markdown",
   "id": "e0b982d0",
   "metadata": {},
   "source": []
  },
  {
   "cell_type": "code",
   "execution_count": null,
   "id": "e4a19cc0",
   "metadata": {},
   "outputs": [],
   "source": [
    "### C"
   ]
  },
  {
   "cell_type": "code",
   "execution_count": null,
   "id": "e44424e1",
   "metadata": {},
   "outputs": [],
   "source": []
  }
 ],
 "metadata": {
  "kernelspec": {
   "display_name": "Python 3",
   "language": "python",
   "name": "python3"
  },
  "language_info": {
   "codemirror_mode": {
    "name": "ipython",
    "version": 3
   },
   "file_extension": ".py",
   "mimetype": "text/x-python",
   "name": "python",
   "nbconvert_exporter": "python",
   "pygments_lexer": "ipython3",
   "version": "3.9.4"
  }
 },
 "nbformat": 4,
 "nbformat_minor": 5
}
