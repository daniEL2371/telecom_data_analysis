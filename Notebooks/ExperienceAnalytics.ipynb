{
 "cells": [
  {
   "cell_type": "code",
   "execution_count": 123,
   "id": "5da33dc4",
   "metadata": {},
   "outputs": [],
   "source": [
    "import os\n",
    "import sys\n",
    "sys.path.append(os.path.abspath(os.path.join('../scripts')))\n",
    "import seaborn as sns\n",
    "import matplotlib.pyplot as plt\n",
    "%matplotlib inline\n",
    "\n",
    "import plotly.express as px"
   ]
  },
  {
   "cell_type": "code",
   "execution_count": 124,
   "id": "2858f850",
   "metadata": {},
   "outputs": [],
   "source": [
    "import warnings\n",
    "warnings.filterwarnings('ignore')\n",
    "pd.options.display.float_format = \"{:.6f}\".format"
   ]
  },
  {
   "cell_type": "code",
   "execution_count": 125,
   "id": "24304d65",
   "metadata": {},
   "outputs": [],
   "source": [
    "import numpy as np\n",
    "import pandas as pd\n",
    "from helper import TelecomHelper\n",
    "import plots\n",
    "from clean_telecom_df import CleanTelecomData\n"
   ]
  },
  {
   "cell_type": "code",
   "execution_count": 126,
   "id": "0e879e7e",
   "metadata": {},
   "outputs": [],
   "source": [
    "CSV_PATH = \"../data/data.csv\""
   ]
  },
  {
   "cell_type": "code",
   "execution_count": 127,
   "id": "57bc49ad",
   "metadata": {},
   "outputs": [],
   "source": [
    "TelecomHelper = TelecomHelper()"
   ]
  },
  {
   "cell_type": "code",
   "execution_count": 128,
   "id": "351e5279",
   "metadata": {},
   "outputs": [
    {
     "name": "stdout",
     "output_type": "stream",
     "text": [
      "file read as csv\n"
     ]
    }
   ],
   "source": [
    "df = TelecomHelper.read_csv(csv_path=CSV_PATH, missing_values=[\"n/a\", \"na\", \"undefined\"])"
   ]
  },
  {
   "cell_type": "code",
   "execution_count": 129,
   "id": "1d8df3fe",
   "metadata": {},
   "outputs": [],
   "source": [
    "def convert_labels(df):\n",
    "        df.columns = [column.replace(' ', '_').lower() for column in df.columns]\n",
    "        return df"
   ]
  },
  {
   "cell_type": "code",
   "execution_count": 130,
   "id": "ac2624f9",
   "metadata": {},
   "outputs": [],
   "source": [
    "df = convert_labels(df)"
   ]
  },
  {
   "cell_type": "code",
   "execution_count": 131,
   "id": "a3c7d911",
   "metadata": {},
   "outputs": [
    {
     "name": "stdout",
     "output_type": "stream",
     "text": [
      "The percentage of data missing is: 12.72\n"
     ]
    }
   ],
   "source": [
    "print(f\"The percentage of data missing is: {TelecomHelper.percent_missing(df)}\")"
   ]
  },
  {
   "cell_type": "code",
   "execution_count": 133,
   "id": "9844b679",
   "metadata": {},
   "outputs": [],
   "source": [
    "df['msisdn/number'] = df['msisdn/number'].astype(\"category\")\n",
    "df['handset_type'] = df['handset_type'].astype(\"category\")"
   ]
  },
  {
   "cell_type": "code",
   "execution_count": 134,
   "id": "42a76b43",
   "metadata": {},
   "outputs": [
    {
     "name": "stdout",
     "output_type": "stream",
     "text": [
      "Automation in Action...!!!\n"
     ]
    }
   ],
   "source": [
    "\n",
    "cleanTelecomData = CleanTelecomData(df)\n",
    "\n",
    "cleaned_df = cleanTelecomData.convert_to_datetime(df)\n",
    "\n",
    "cleaned_df = cleanTelecomData.drop_duplicate(cleaned_df)\n",
    "\n",
    "\n",
    "cleaned_df = cleanTelecomData.handle_missing_qantitative_data_with_mean(cleaned_df)\n",
    "\n",
    "cleaned_df = cleanTelecomData.handle_missing_categorical_data_with_mean(cleaned_df, \"ffill\")\n",
    "\n"
   ]
  },
  {
   "cell_type": "code",
   "execution_count": 135,
   "id": "584d98e1",
   "metadata": {},
   "outputs": [
    {
     "name": "stdout",
     "output_type": "stream",
     "text": [
      "The overall missing percentage is: 0.0%\n",
      "=============================================\n"
     ]
    }
   ],
   "source": [
    "        \n",
    "percent_missing = TelecomHelper.percent_missing(cleaned_df)\n",
    "print(f\"The overall missing percentage is: {percent_missing}%\")\n",
    "print(\"=============================================\")\n",
    "        "
   ]
  },
  {
   "cell_type": "code",
   "execution_count": 136,
   "id": "bfb05199",
   "metadata": {},
   "outputs": [
    {
     "data": {
      "text/html": [
       "<div>\n",
       "<style scoped>\n",
       "    .dataframe tbody tr th:only-of-type {\n",
       "        vertical-align: middle;\n",
       "    }\n",
       "\n",
       "    .dataframe tbody tr th {\n",
       "        vertical-align: top;\n",
       "    }\n",
       "\n",
       "    .dataframe thead th {\n",
       "        text-align: right;\n",
       "    }\n",
       "</style>\n",
       "<table border=\"1\" class=\"dataframe\">\n",
       "  <thead>\n",
       "    <tr style=\"text-align: right;\">\n",
       "      <th></th>\n",
       "      <th>msisdn/number</th>\n",
       "      <th>avg_rtt_dl_(ms)</th>\n",
       "      <th>avg_rtt_ul_(ms)</th>\n",
       "      <th>avg_bearer_tp_dl_(kbps)</th>\n",
       "      <th>avg_bearer_tp_ul_(kbps)</th>\n",
       "      <th>tcp_ul_retrans._vol_(bytes)</th>\n",
       "      <th>tcp_dl_retrans._vol_(bytes)</th>\n",
       "      <th>handset_type</th>\n",
       "    </tr>\n",
       "  </thead>\n",
       "  <tbody>\n",
       "    <tr>\n",
       "      <th>0</th>\n",
       "      <td>33664962239.000000</td>\n",
       "      <td>42.000000</td>\n",
       "      <td>5.000000</td>\n",
       "      <td>23.000000</td>\n",
       "      <td>44.000000</td>\n",
       "      <td>759658.664811</td>\n",
       "      <td>20809914.270342</td>\n",
       "      <td>Samsung Galaxy A5 Sm-A520F</td>\n",
       "    </tr>\n",
       "    <tr>\n",
       "      <th>1</th>\n",
       "      <td>33681854413.000000</td>\n",
       "      <td>65.000000</td>\n",
       "      <td>5.000000</td>\n",
       "      <td>16.000000</td>\n",
       "      <td>26.000000</td>\n",
       "      <td>759658.664811</td>\n",
       "      <td>20809914.270342</td>\n",
       "      <td>Samsung Galaxy J5 (Sm-J530)</td>\n",
       "    </tr>\n",
       "    <tr>\n",
       "      <th>2</th>\n",
       "      <td>33760627129.000000</td>\n",
       "      <td>109.795706</td>\n",
       "      <td>17.662883</td>\n",
       "      <td>6.000000</td>\n",
       "      <td>9.000000</td>\n",
       "      <td>759658.664811</td>\n",
       "      <td>20809914.270342</td>\n",
       "      <td>Samsung Galaxy A8 (2018)</td>\n",
       "    </tr>\n",
       "    <tr>\n",
       "      <th>3</th>\n",
       "      <td>33750343200.000000</td>\n",
       "      <td>109.795706</td>\n",
       "      <td>17.662883</td>\n",
       "      <td>44.000000</td>\n",
       "      <td>44.000000</td>\n",
       "      <td>759658.664811</td>\n",
       "      <td>20809914.270342</td>\n",
       "      <td>Samsung Galaxy A8 (2018)</td>\n",
       "    </tr>\n",
       "    <tr>\n",
       "      <th>4</th>\n",
       "      <td>33699795932.000000</td>\n",
       "      <td>109.795706</td>\n",
       "      <td>17.662883</td>\n",
       "      <td>6.000000</td>\n",
       "      <td>9.000000</td>\n",
       "      <td>759658.664811</td>\n",
       "      <td>20809914.270342</td>\n",
       "      <td>Samsung Sm-G390F</td>\n",
       "    </tr>\n",
       "  </tbody>\n",
       "</table>\n",
       "</div>"
      ],
      "text/plain": [
       "       msisdn/number  avg_rtt_dl_(ms)  avg_rtt_ul_(ms)  \\\n",
       "0 33664962239.000000        42.000000         5.000000   \n",
       "1 33681854413.000000        65.000000         5.000000   \n",
       "2 33760627129.000000       109.795706        17.662883   \n",
       "3 33750343200.000000       109.795706        17.662883   \n",
       "4 33699795932.000000       109.795706        17.662883   \n",
       "\n",
       "   avg_bearer_tp_dl_(kbps)  avg_bearer_tp_ul_(kbps)  \\\n",
       "0                23.000000                44.000000   \n",
       "1                16.000000                26.000000   \n",
       "2                 6.000000                 9.000000   \n",
       "3                44.000000                44.000000   \n",
       "4                 6.000000                 9.000000   \n",
       "\n",
       "   tcp_ul_retrans._vol_(bytes)  tcp_dl_retrans._vol_(bytes)  \\\n",
       "0                759658.664811              20809914.270342   \n",
       "1                759658.664811              20809914.270342   \n",
       "2                759658.664811              20809914.270342   \n",
       "3                759658.664811              20809914.270342   \n",
       "4                759658.664811              20809914.270342   \n",
       "\n",
       "                  handset_type  \n",
       "0   Samsung Galaxy A5 Sm-A520F  \n",
       "1  Samsung Galaxy J5 (Sm-J530)  \n",
       "2     Samsung Galaxy A8 (2018)  \n",
       "3     Samsung Galaxy A8 (2018)  \n",
       "4             Samsung Sm-G390F  "
      ]
     },
     "execution_count": 136,
     "metadata": {},
     "output_type": "execute_result"
    }
   ],
   "source": [
    "experience_df = cleaned_df[['msisdn/number', 'avg_rtt_dl_(ms)', 'avg_rtt_ul_(ms)', \n",
    "           'avg_bearer_tp_dl_(kbps)', 'avg_bearer_tp_ul_(kbps)',\n",
    "           'tcp_ul_retrans._vol_(bytes)', 'tcp_dl_retrans._vol_(bytes)',\n",
    "           'handset_type']]\n",
    "\n",
    "experience_df.head()"
   ]
  },
  {
   "cell_type": "code",
   "execution_count": 138,
   "id": "d85dd3f7",
   "metadata": {},
   "outputs": [],
   "source": [
    "def handle_outliers(df, col, method=\"lower_upper\"):\n",
    "    df = df.copy()\n",
    "    q1 = df[col].quantile(0.25)\n",
    "    q3 = df[col].quantile(0.75)\n",
    "    \n",
    "    lower_bound = q1 - ((1.5) * (q3 - q1))\n",
    "    upper_bound = q3 + ((1.5) * (q3 - q1))\n",
    "    \n",
    "    if method == \"mean\":\n",
    "        df[col] = np.where(df[col] < lower_bound,   df[col].mean(), df[col])\n",
    "        df[col] = np.where(df[col] > upper_bound, df[col].mean(), df[col])\n",
    "    \n",
    "    elif  method == \"mode\":\n",
    "        df[col] = np.where(df[col] < lower_bound,   df[col].mode()[0], df[col])\n",
    "        df[col] = np.where(df[col] > upper_bound, df[col].mode()[0], df[col])\n",
    "    else:\n",
    "        df[col] = np.where(df[col] < lower_bound, lower_bound, df[col])\n",
    "        df[col] = np.where(df[col] > upper_bound, upper_bound, df[col])\n",
    "    \n",
    "    return df"
   ]
  },
  {
   "cell_type": "code",
   "execution_count": 139,
   "id": "c4e30ea6",
   "metadata": {},
   "outputs": [],
   "source": [
    "\n",
    "cleaned_experience_df = handle_outliers(experience_df, 'avg_rtt_dl_(ms)', method=\"mean\")\n",
    "cleaned_experience_df = handle_outliers(experience_df, 'avg_rtt_ul_(ms)', method=\"mean\")\n",
    "\n",
    "cleaned_experience_df = handle_outliers(experience_df, 'avg_bearer_tp_dl_(kbps)', method=\"mean\")\n",
    "cleaned_experience_df = handle_outliers(experience_df, 'avg_bearer_tp_ul_(kbps)', method=\"mean\")\n",
    "\n",
    "cleaned_experience_df = handle_outliers(experience_df, 'tcp_ul_retrans._vol_(bytes)', method=\"mean\")\n",
    "cleaned_experience_df = handle_outliers(experience_df, 'tcp_dl_retrans._vol_(bytes)', method=\"mean\")\n",
    "\n"
   ]
  },
  {
   "cell_type": "code",
   "execution_count": 140,
   "id": "d6a02bbe",
   "metadata": {},
   "outputs": [],
   "source": [
    "\n",
    "experience_metrics_df = pd.DataFrame(columns=['msisdn', 'handset_type', 'avg_rtt_ms',\n",
    "                                              'avg_throughput_kbps', 'tcp_retrans_bytes'])\n",
    "\n",
    "experience_metrics_df['avg_rtt_ms'] = cleaned_experience_df['avg_rtt_dl_(ms)'] + cleaned_experience_df['avg_rtt_ul_(ms)']\n",
    "experience_metrics_df['avg_throughput_kbps'] = cleaned_experience_df['avg_bearer_tp_dl_(kbps)'] + cleaned_experience_df['avg_bearer_tp_ul_(kbps)']\n",
    "experience_metrics_df['tcp_retrans_bytes'] = cleaned_experience_df['tcp_ul_retrans._vol_(bytes)'] + cleaned_experience_df['tcp_dl_retrans._vol_(bytes)']\n",
    "\n",
    "experience_metrics_df['msisdn'] = cleaned_experience_df['msisdn/number']\n",
    "experience_metrics_df['handset_type'] = cleaned_experience_df['handset_type']\n",
    "\n"
   ]
  },
  {
   "cell_type": "code",
   "execution_count": 141,
   "id": "d89563e4",
   "metadata": {},
   "outputs": [
    {
     "data": {
      "text/html": [
       "<div>\n",
       "<style scoped>\n",
       "    .dataframe tbody tr th:only-of-type {\n",
       "        vertical-align: middle;\n",
       "    }\n",
       "\n",
       "    .dataframe tbody tr th {\n",
       "        vertical-align: top;\n",
       "    }\n",
       "\n",
       "    .dataframe thead th {\n",
       "        text-align: right;\n",
       "    }\n",
       "</style>\n",
       "<table border=\"1\" class=\"dataframe\">\n",
       "  <thead>\n",
       "    <tr style=\"text-align: right;\">\n",
       "      <th></th>\n",
       "      <th>msisdn</th>\n",
       "      <th>handset_type</th>\n",
       "      <th>avg_rtt_ms</th>\n",
       "      <th>avg_throughput_kbps</th>\n",
       "      <th>tcp_retrans_bytes</th>\n",
       "    </tr>\n",
       "  </thead>\n",
       "  <tbody>\n",
       "    <tr>\n",
       "      <th>0</th>\n",
       "      <td>33664962239.000000</td>\n",
       "      <td>Samsung Galaxy A5 Sm-A520F</td>\n",
       "      <td>47.000000</td>\n",
       "      <td>67.000000</td>\n",
       "      <td>21569572.935153</td>\n",
       "    </tr>\n",
       "    <tr>\n",
       "      <th>1</th>\n",
       "      <td>33681854413.000000</td>\n",
       "      <td>Samsung Galaxy J5 (Sm-J530)</td>\n",
       "      <td>70.000000</td>\n",
       "      <td>42.000000</td>\n",
       "      <td>21569572.935153</td>\n",
       "    </tr>\n",
       "    <tr>\n",
       "      <th>2</th>\n",
       "      <td>33760627129.000000</td>\n",
       "      <td>Samsung Galaxy A8 (2018)</td>\n",
       "      <td>127.458589</td>\n",
       "      <td>15.000000</td>\n",
       "      <td>21569572.935153</td>\n",
       "    </tr>\n",
       "    <tr>\n",
       "      <th>3</th>\n",
       "      <td>33750343200.000000</td>\n",
       "      <td>Samsung Galaxy A8 (2018)</td>\n",
       "      <td>127.458589</td>\n",
       "      <td>88.000000</td>\n",
       "      <td>21569572.935153</td>\n",
       "    </tr>\n",
       "    <tr>\n",
       "      <th>4</th>\n",
       "      <td>33699795932.000000</td>\n",
       "      <td>Samsung Sm-G390F</td>\n",
       "      <td>127.458589</td>\n",
       "      <td>15.000000</td>\n",
       "      <td>21569572.935153</td>\n",
       "    </tr>\n",
       "  </tbody>\n",
       "</table>\n",
       "</div>"
      ],
      "text/plain": [
       "              msisdn                 handset_type  avg_rtt_ms  \\\n",
       "0 33664962239.000000   Samsung Galaxy A5 Sm-A520F   47.000000   \n",
       "1 33681854413.000000  Samsung Galaxy J5 (Sm-J530)   70.000000   \n",
       "2 33760627129.000000     Samsung Galaxy A8 (2018)  127.458589   \n",
       "3 33750343200.000000     Samsung Galaxy A8 (2018)  127.458589   \n",
       "4 33699795932.000000             Samsung Sm-G390F  127.458589   \n",
       "\n",
       "   avg_throughput_kbps  tcp_retrans_bytes  \n",
       "0            67.000000    21569572.935153  \n",
       "1            42.000000    21569572.935153  \n",
       "2            15.000000    21569572.935153  \n",
       "3            88.000000    21569572.935153  \n",
       "4            15.000000    21569572.935153  "
      ]
     },
     "execution_count": 141,
     "metadata": {},
     "output_type": "execute_result"
    }
   ],
   "source": [
    "experience_metrics_df.head()"
   ]
  },
  {
   "cell_type": "code",
   "execution_count": 142,
   "id": "a90354db",
   "metadata": {},
   "outputs": [
    {
     "data": {
      "text/html": [
       "<div>\n",
       "<style scoped>\n",
       "    .dataframe tbody tr th:only-of-type {\n",
       "        vertical-align: middle;\n",
       "    }\n",
       "\n",
       "    .dataframe tbody tr th {\n",
       "        vertical-align: top;\n",
       "    }\n",
       "\n",
       "    .dataframe thead th {\n",
       "        text-align: right;\n",
       "    }\n",
       "</style>\n",
       "<table border=\"1\" class=\"dataframe\">\n",
       "  <thead>\n",
       "    <tr style=\"text-align: right;\">\n",
       "      <th></th>\n",
       "      <th>avg_rtt_ms</th>\n",
       "      <th>avg_throughput_kbps</th>\n",
       "      <th>tcp_retrans_bytes</th>\n",
       "    </tr>\n",
       "  </thead>\n",
       "  <tbody>\n",
       "    <tr>\n",
       "      <th>count</th>\n",
       "      <td>150001.000000</td>\n",
       "      <td>150001.000000</td>\n",
       "      <td>150001.000000</td>\n",
       "    </tr>\n",
       "    <tr>\n",
       "      <th>mean</th>\n",
       "      <td>127.458589</td>\n",
       "      <td>15070.474573</td>\n",
       "      <td>14702278.692785</td>\n",
       "    </tr>\n",
       "    <tr>\n",
       "      <th>std</th>\n",
       "      <td>565.144762</td>\n",
       "      <td>26825.755093</td>\n",
       "      <td>18580695.077794</td>\n",
       "    </tr>\n",
       "    <tr>\n",
       "      <th>min</th>\n",
       "      <td>0.000000</td>\n",
       "      <td>0.000000</td>\n",
       "      <td>86.000000</td>\n",
       "    </tr>\n",
       "    <tr>\n",
       "      <th>25%</th>\n",
       "      <td>40.000000</td>\n",
       "      <td>90.000000</td>\n",
       "      <td>1492448.664811</td>\n",
       "    </tr>\n",
       "    <tr>\n",
       "      <th>50%</th>\n",
       "      <td>67.000000</td>\n",
       "      <td>125.000000</td>\n",
       "      <td>21569572.935153</td>\n",
       "    </tr>\n",
       "    <tr>\n",
       "      <th>75%</th>\n",
       "      <td>127.458589</td>\n",
       "      <td>22348.000000</td>\n",
       "      <td>21569572.935153</td>\n",
       "    </tr>\n",
       "    <tr>\n",
       "      <th>max</th>\n",
       "      <td>96924.000000</td>\n",
       "      <td>382262.000000</td>\n",
       "      <td>2913408387.000000</td>\n",
       "    </tr>\n",
       "  </tbody>\n",
       "</table>\n",
       "</div>"
      ],
      "text/plain": [
       "         avg_rtt_ms  avg_throughput_kbps  tcp_retrans_bytes\n",
       "count 150001.000000        150001.000000      150001.000000\n",
       "mean     127.458589         15070.474573    14702278.692785\n",
       "std      565.144762         26825.755093    18580695.077794\n",
       "min        0.000000             0.000000          86.000000\n",
       "25%       40.000000            90.000000     1492448.664811\n",
       "50%       67.000000           125.000000    21569572.935153\n",
       "75%      127.458589         22348.000000    21569572.935153\n",
       "max    96924.000000        382262.000000  2913408387.000000"
      ]
     },
     "execution_count": 142,
     "metadata": {},
     "output_type": "execute_result"
    }
   ],
   "source": [
    "experience_metrics_df.describe()"
   ]
  },
  {
   "cell_type": "code",
   "execution_count": 145,
   "id": "eb8d5e8d",
   "metadata": {},
   "outputs": [],
   "source": [
    "\n",
    "experience_agg_by_customer = experience_metrics_df.groupby('msisdn').agg({'avg_rtt_ms': 'sum',\n",
    "                                                                          'avg_throughput_kbps': 'sum',\n",
    "                                                                          'tcp_retrans_bytes': 'sum', \n",
    "                                                                           'handset_type': lambda x: x.mode()[0]})"
   ]
  },
  {
   "cell_type": "code",
   "execution_count": 146,
   "id": "be48e2a5",
   "metadata": {},
   "outputs": [
    {
     "data": {
      "text/html": [
       "<div>\n",
       "<style scoped>\n",
       "    .dataframe tbody tr th:only-of-type {\n",
       "        vertical-align: middle;\n",
       "    }\n",
       "\n",
       "    .dataframe tbody tr th {\n",
       "        vertical-align: top;\n",
       "    }\n",
       "\n",
       "    .dataframe thead th {\n",
       "        text-align: right;\n",
       "    }\n",
       "</style>\n",
       "<table border=\"1\" class=\"dataframe\">\n",
       "  <thead>\n",
       "    <tr style=\"text-align: right;\">\n",
       "      <th></th>\n",
       "      <th>avg_rtt_ms</th>\n",
       "      <th>avg_throughput_kbps</th>\n",
       "      <th>tcp_retrans_bytes</th>\n",
       "      <th>handset_type</th>\n",
       "    </tr>\n",
       "    <tr>\n",
       "      <th>msisdn</th>\n",
       "      <th></th>\n",
       "      <th></th>\n",
       "      <th></th>\n",
       "      <th></th>\n",
       "    </tr>\n",
       "  </thead>\n",
       "  <tbody>\n",
       "    <tr>\n",
       "      <th>33601001722.0</th>\n",
       "      <td>46.000000</td>\n",
       "      <td>76.000000</td>\n",
       "      <td>21569572.935153</td>\n",
       "      <td>Huawei P20 Lite Huawei Nova 3E</td>\n",
       "    </tr>\n",
       "    <tr>\n",
       "      <th>33601001754.0</th>\n",
       "      <td>31.000000</td>\n",
       "      <td>99.000000</td>\n",
       "      <td>21569572.935153</td>\n",
       "      <td>Apple iPhone 7 (A1778)</td>\n",
       "    </tr>\n",
       "    <tr>\n",
       "      <th>33601002511.0</th>\n",
       "      <td>127.458589</td>\n",
       "      <td>97.000000</td>\n",
       "      <td>21569572.935153</td>\n",
       "      <td>Apple iPhone 7 Plus (A1784)</td>\n",
       "    </tr>\n",
       "    <tr>\n",
       "      <th>33601007832.0</th>\n",
       "      <td>84.000000</td>\n",
       "      <td>248.000000</td>\n",
       "      <td>760724.664811</td>\n",
       "      <td>Apple iPhone 5S (A1457)</td>\n",
       "    </tr>\n",
       "    <tr>\n",
       "      <th>33601008617.0</th>\n",
       "      <td>119.000000</td>\n",
       "      <td>56844.000000</td>\n",
       "      <td>30940404.935153</td>\n",
       "      <td>Apple iPhone Se (A1723)</td>\n",
       "    </tr>\n",
       "  </tbody>\n",
       "</table>\n",
       "</div>"
      ],
      "text/plain": [
       "               avg_rtt_ms  avg_throughput_kbps  tcp_retrans_bytes  \\\n",
       "msisdn                                                              \n",
       "33601001722.0   46.000000            76.000000    21569572.935153   \n",
       "33601001754.0   31.000000            99.000000    21569572.935153   \n",
       "33601002511.0  127.458589            97.000000    21569572.935153   \n",
       "33601007832.0   84.000000           248.000000      760724.664811   \n",
       "33601008617.0  119.000000         56844.000000    30940404.935153   \n",
       "\n",
       "                                 handset_type  \n",
       "msisdn                                         \n",
       "33601001722.0  Huawei P20 Lite Huawei Nova 3E  \n",
       "33601001754.0          Apple iPhone 7 (A1778)  \n",
       "33601002511.0     Apple iPhone 7 Plus (A1784)  \n",
       "33601007832.0         Apple iPhone 5S (A1457)  \n",
       "33601008617.0         Apple iPhone Se (A1723)  "
      ]
     },
     "execution_count": 146,
     "metadata": {},
     "output_type": "execute_result"
    }
   ],
   "source": [
    "experience_agg_by_customer.head()"
   ]
  },
  {
   "cell_type": "markdown",
   "id": "b46433ef",
   "metadata": {},
   "source": [
    "### Task 3.2"
   ]
  },
  {
   "cell_type": "markdown",
   "id": "93e1ec55",
   "metadata": {},
   "source": [
    "10 of the top, bottom and most frequent:\n",
    "TCP values in the dataset.\n"
   ]
  },
  {
   "cell_type": "code",
   "execution_count": 221,
   "id": "1d3e2af9",
   "metadata": {},
   "outputs": [],
   "source": [
    "\n",
    "tcp_trans = experience_agg_by_customer.sort_values(by=['tcp_retrans_bytes'], ascending=False)\n",
    "\n",
    "top_10_tcp = tcp_trans.head(10)\n",
    "bot_10_tcp = tcp_trans.tail(10)\n",
    "most_tcp_frq = tcp_trans['tcp_retrans_bytes'].value_counts().head(10)\n"
   ]
  },
  {
   "cell_type": "code",
   "execution_count": 224,
   "id": "39fbf9a5",
   "metadata": {},
   "outputs": [
    {
     "data": {
      "text/html": [
       "<div>\n",
       "<style scoped>\n",
       "    .dataframe tbody tr th:only-of-type {\n",
       "        vertical-align: middle;\n",
       "    }\n",
       "\n",
       "    .dataframe tbody tr th {\n",
       "        vertical-align: top;\n",
       "    }\n",
       "\n",
       "    .dataframe thead th {\n",
       "        text-align: right;\n",
       "    }\n",
       "</style>\n",
       "<table border=\"1\" class=\"dataframe\">\n",
       "  <thead>\n",
       "    <tr style=\"text-align: right;\">\n",
       "      <th></th>\n",
       "      <th>tcp_retrans_bytes</th>\n",
       "    </tr>\n",
       "    <tr>\n",
       "      <th>msisdn</th>\n",
       "      <th></th>\n",
       "    </tr>\n",
       "  </thead>\n",
       "  <tbody>\n",
       "    <tr>\n",
       "      <th>33669054076.0</th>\n",
       "      <td>5195784536.935153</td>\n",
       "    </tr>\n",
       "    <tr>\n",
       "      <th>33658249284.0</th>\n",
       "      <td>2676347975.000000</td>\n",
       "    </tr>\n",
       "    <tr>\n",
       "      <th>33763588772.0</th>\n",
       "      <td>2464813763.000000</td>\n",
       "    </tr>\n",
       "    <tr>\n",
       "      <th>33664698321.0</th>\n",
       "      <td>1772193431.270342</td>\n",
       "    </tr>\n",
       "    <tr>\n",
       "      <th>33665090461.0</th>\n",
       "      <td>1748619914.270342</td>\n",
       "    </tr>\n",
       "    <tr>\n",
       "      <th>33760918898.0</th>\n",
       "      <td>1261530535.935153</td>\n",
       "    </tr>\n",
       "    <tr>\n",
       "      <th>33668333080.0</th>\n",
       "      <td>872947033.811026</td>\n",
       "    </tr>\n",
       "    <tr>\n",
       "      <th>33661679531.0</th>\n",
       "      <td>794947990.000000</td>\n",
       "    </tr>\n",
       "    <tr>\n",
       "      <th>33698382849.0</th>\n",
       "      <td>740381721.270342</td>\n",
       "    </tr>\n",
       "    <tr>\n",
       "      <th>33668446094.0</th>\n",
       "      <td>529323135.000000</td>\n",
       "    </tr>\n",
       "  </tbody>\n",
       "</table>\n",
       "</div>"
      ],
      "text/plain": [
       "               tcp_retrans_bytes\n",
       "msisdn                          \n",
       "33669054076.0  5195784536.935153\n",
       "33658249284.0  2676347975.000000\n",
       "33763588772.0  2464813763.000000\n",
       "33664698321.0  1772193431.270342\n",
       "33665090461.0  1748619914.270342\n",
       "33760918898.0  1261530535.935153\n",
       "33668333080.0   872947033.811026\n",
       "33661679531.0   794947990.000000\n",
       "33698382849.0   740381721.270342\n",
       "33668446094.0   529323135.000000"
      ]
     },
     "execution_count": 224,
     "metadata": {},
     "output_type": "execute_result"
    }
   ],
   "source": [
    "top_10_tcp[['tcp_retrans_bytes']]"
   ]
  },
  {
   "cell_type": "code",
   "execution_count": 227,
   "id": "f2fb77d8",
   "metadata": {},
   "outputs": [
    {
     "data": {
      "text/html": [
       "<div>\n",
       "<style scoped>\n",
       "    .dataframe tbody tr th:only-of-type {\n",
       "        vertical-align: middle;\n",
       "    }\n",
       "\n",
       "    .dataframe tbody tr th {\n",
       "        vertical-align: top;\n",
       "    }\n",
       "\n",
       "    .dataframe thead th {\n",
       "        text-align: right;\n",
       "    }\n",
       "</style>\n",
       "<table border=\"1\" class=\"dataframe\">\n",
       "  <thead>\n",
       "    <tr style=\"text-align: right;\">\n",
       "      <th></th>\n",
       "      <th>tcp_retrans_bytes</th>\n",
       "    </tr>\n",
       "    <tr>\n",
       "      <th>msisdn</th>\n",
       "      <th></th>\n",
       "    </tr>\n",
       "  </thead>\n",
       "  <tbody>\n",
       "    <tr>\n",
       "      <th>33699694715.0</th>\n",
       "      <td>182.000000</td>\n",
       "    </tr>\n",
       "    <tr>\n",
       "      <th>33679366089.0</th>\n",
       "      <td>179.000000</td>\n",
       "    </tr>\n",
       "    <tr>\n",
       "      <th>33784203839.0</th>\n",
       "      <td>177.000000</td>\n",
       "    </tr>\n",
       "    <tr>\n",
       "      <th>33650681239.0</th>\n",
       "      <td>176.000000</td>\n",
       "    </tr>\n",
       "    <tr>\n",
       "      <th>33769636458.0</th>\n",
       "      <td>176.000000</td>\n",
       "    </tr>\n",
       "    <tr>\n",
       "      <th>33607833304.0</th>\n",
       "      <td>143.000000</td>\n",
       "    </tr>\n",
       "    <tr>\n",
       "      <th>33626357513.0</th>\n",
       "      <td>134.000000</td>\n",
       "    </tr>\n",
       "    <tr>\n",
       "      <th>33762062356.0</th>\n",
       "      <td>129.000000</td>\n",
       "    </tr>\n",
       "    <tr>\n",
       "      <th>33614777138.0</th>\n",
       "      <td>128.000000</td>\n",
       "    </tr>\n",
       "    <tr>\n",
       "      <th>33650128412.0</th>\n",
       "      <td>97.000000</td>\n",
       "    </tr>\n",
       "  </tbody>\n",
       "</table>\n",
       "</div>"
      ],
      "text/plain": [
       "               tcp_retrans_bytes\n",
       "msisdn                          \n",
       "33699694715.0         182.000000\n",
       "33679366089.0         179.000000\n",
       "33784203839.0         177.000000\n",
       "33650681239.0         176.000000\n",
       "33769636458.0         176.000000\n",
       "33607833304.0         143.000000\n",
       "33626357513.0         134.000000\n",
       "33762062356.0         129.000000\n",
       "33614777138.0         128.000000\n",
       "33650128412.0          97.000000"
      ]
     },
     "execution_count": 227,
     "metadata": {},
     "output_type": "execute_result"
    }
   ],
   "source": [
    "bot_10_tcp[['tcp_retrans_bytes']]"
   ]
  },
  {
   "cell_type": "code",
   "execution_count": 228,
   "id": "01dfb726",
   "metadata": {},
   "outputs": [
    {
     "data": {
      "text/plain": [
       "21569572.935153    46854\n",
       "43139145.870306     7490\n",
       "64708718.805459     1039\n",
       "20811208.270342      362\n",
       "86278291.740612      248\n",
       "20811244.270342      163\n",
       "760988.664811        141\n",
       "42380781.205495       82\n",
       "20811232.270342       80\n",
       "762318.664811         78\n",
       "Name: tcp_retrans_bytes, dtype: int64"
      ]
     },
     "execution_count": 228,
     "metadata": {},
     "output_type": "execute_result"
    }
   ],
   "source": [
    "most_tcp_frq"
   ]
  },
  {
   "cell_type": "markdown",
   "id": "5fabd0aa",
   "metadata": {},
   "source": [
    "10 of the top, bottom and most frequent:\n",
    "RTT values in the dataset."
   ]
  },
  {
   "cell_type": "code",
   "execution_count": 166,
   "id": "6f712d84",
   "metadata": {},
   "outputs": [
    {
     "data": {
      "text/plain": [
       "127.458589    16272\n",
       "29.000000      2719\n",
       "39.000000      2150\n",
       "254.917178     1928\n",
       "38.000000      1436\n",
       "30.000000      1414\n",
       "40.000000      1372\n",
       "28.000000      1323\n",
       "49.000000      1189\n",
       "31.000000      1044\n",
       "Name: avg_rtt_ms, dtype: int64"
      ]
     },
     "execution_count": 166,
     "metadata": {},
     "output_type": "execute_result"
    }
   ],
   "source": [
    "tcp_rtt = experience_agg_by_customer.sort_values(by=['avg_rtt_ms'], ascending=False)\n",
    "\n",
    "top_10_rtt = tcp_rtt.head(10)\n",
    "bot_10_rtt = tcp_rtt.tail(10)\n",
    "most_rtt_frq = tcp_rtt['avg_rtt_ms'].value_counts().head(10)\n"
   ]
  },
  {
   "cell_type": "code",
   "execution_count": 230,
   "id": "a138812e",
   "metadata": {},
   "outputs": [
    {
     "data": {
      "text/html": [
       "<div>\n",
       "<style scoped>\n",
       "    .dataframe tbody tr th:only-of-type {\n",
       "        vertical-align: middle;\n",
       "    }\n",
       "\n",
       "    .dataframe tbody tr th {\n",
       "        vertical-align: top;\n",
       "    }\n",
       "\n",
       "    .dataframe thead th {\n",
       "        text-align: right;\n",
       "    }\n",
       "</style>\n",
       "<table border=\"1\" class=\"dataframe\">\n",
       "  <thead>\n",
       "    <tr style=\"text-align: right;\">\n",
       "      <th></th>\n",
       "      <th>avg_rtt_ms</th>\n",
       "    </tr>\n",
       "    <tr>\n",
       "      <th>msisdn</th>\n",
       "      <th></th>\n",
       "    </tr>\n",
       "  </thead>\n",
       "  <tbody>\n",
       "    <tr>\n",
       "      <th>33662317023.0</th>\n",
       "      <td>96924.000000</td>\n",
       "    </tr>\n",
       "    <tr>\n",
       "      <th>33660874265.0</th>\n",
       "      <td>64670.000000</td>\n",
       "    </tr>\n",
       "    <tr>\n",
       "      <th>33661070264.0</th>\n",
       "      <td>55852.000000</td>\n",
       "    </tr>\n",
       "    <tr>\n",
       "      <th>33683692867.0</th>\n",
       "      <td>54848.000000</td>\n",
       "    </tr>\n",
       "    <tr>\n",
       "      <th>33698551167.0</th>\n",
       "      <td>46021.000000</td>\n",
       "    </tr>\n",
       "    <tr>\n",
       "      <th>33761813523.0</th>\n",
       "      <td>37084.000000</td>\n",
       "    </tr>\n",
       "    <tr>\n",
       "      <th>33668791629.0</th>\n",
       "      <td>36304.000000</td>\n",
       "    </tr>\n",
       "    <tr>\n",
       "      <th>33760941100.0</th>\n",
       "      <td>27278.000000</td>\n",
       "    </tr>\n",
       "    <tr>\n",
       "      <th>33606788933.0</th>\n",
       "      <td>26300.000000</td>\n",
       "    </tr>\n",
       "    <tr>\n",
       "      <th>33671816754.0</th>\n",
       "      <td>25715.000000</td>\n",
       "    </tr>\n",
       "  </tbody>\n",
       "</table>\n",
       "</div>"
      ],
      "text/plain": [
       "                avg_rtt_ms\n",
       "msisdn                    \n",
       "33662317023.0 96924.000000\n",
       "33660874265.0 64670.000000\n",
       "33661070264.0 55852.000000\n",
       "33683692867.0 54848.000000\n",
       "33698551167.0 46021.000000\n",
       "33761813523.0 37084.000000\n",
       "33668791629.0 36304.000000\n",
       "33760941100.0 27278.000000\n",
       "33606788933.0 26300.000000\n",
       "33671816754.0 25715.000000"
      ]
     },
     "execution_count": 230,
     "metadata": {},
     "output_type": "execute_result"
    }
   ],
   "source": [
    "top_10_rtt[['avg_rtt_ms']]"
   ]
  },
  {
   "cell_type": "code",
   "execution_count": 236,
   "id": "466ce854",
   "metadata": {},
   "outputs": [
    {
     "data": {
      "text/html": [
       "<div>\n",
       "<style scoped>\n",
       "    .dataframe tbody tr th:only-of-type {\n",
       "        vertical-align: middle;\n",
       "    }\n",
       "\n",
       "    .dataframe tbody tr th {\n",
       "        vertical-align: top;\n",
       "    }\n",
       "\n",
       "    .dataframe thead th {\n",
       "        text-align: right;\n",
       "    }\n",
       "</style>\n",
       "<table border=\"1\" class=\"dataframe\">\n",
       "  <thead>\n",
       "    <tr style=\"text-align: right;\">\n",
       "      <th></th>\n",
       "      <th>avg_rtt_ms</th>\n",
       "    </tr>\n",
       "    <tr>\n",
       "      <th>msisdn</th>\n",
       "      <th></th>\n",
       "    </tr>\n",
       "  </thead>\n",
       "  <tbody>\n",
       "    <tr>\n",
       "      <th>33634684770.0</th>\n",
       "      <td>10.000000</td>\n",
       "    </tr>\n",
       "    <tr>\n",
       "      <th>33672196893.0</th>\n",
       "      <td>9.000000</td>\n",
       "    </tr>\n",
       "    <tr>\n",
       "      <th>33610846366.0</th>\n",
       "      <td>9.000000</td>\n",
       "    </tr>\n",
       "    <tr>\n",
       "      <th>33647679481.0</th>\n",
       "      <td>8.000000</td>\n",
       "    </tr>\n",
       "    <tr>\n",
       "      <th>33668619895.0</th>\n",
       "      <td>6.000000</td>\n",
       "    </tr>\n",
       "    <tr>\n",
       "      <th>33659493541.0</th>\n",
       "      <td>5.000000</td>\n",
       "    </tr>\n",
       "    <tr>\n",
       "      <th>33695045499.0</th>\n",
       "      <td>4.000000</td>\n",
       "    </tr>\n",
       "    <tr>\n",
       "      <th>33660204450.0</th>\n",
       "      <td>2.000000</td>\n",
       "    </tr>\n",
       "    <tr>\n",
       "      <th>33652982188.0</th>\n",
       "      <td>0.000000</td>\n",
       "    </tr>\n",
       "    <tr>\n",
       "      <th>33661575382.0</th>\n",
       "      <td>0.000000</td>\n",
       "    </tr>\n",
       "  </tbody>\n",
       "</table>\n",
       "</div>"
      ],
      "text/plain": [
       "               avg_rtt_ms\n",
       "msisdn                   \n",
       "33634684770.0   10.000000\n",
       "33672196893.0    9.000000\n",
       "33610846366.0    9.000000\n",
       "33647679481.0    8.000000\n",
       "33668619895.0    6.000000\n",
       "33659493541.0    5.000000\n",
       "33695045499.0    4.000000\n",
       "33660204450.0    2.000000\n",
       "33652982188.0    0.000000\n",
       "33661575382.0    0.000000"
      ]
     },
     "execution_count": 236,
     "metadata": {},
     "output_type": "execute_result"
    }
   ],
   "source": [
    "bot_10_rtt[['avg_rtt_ms']]"
   ]
  },
  {
   "cell_type": "code",
   "execution_count": 232,
   "id": "dbb4c867",
   "metadata": {},
   "outputs": [
    {
     "data": {
      "text/plain": [
       "127.458589    16272\n",
       "29.000000      2719\n",
       "39.000000      2150\n",
       "254.917178     1928\n",
       "38.000000      1436\n",
       "30.000000      1414\n",
       "40.000000      1372\n",
       "28.000000      1323\n",
       "49.000000      1189\n",
       "31.000000      1044\n",
       "Name: avg_rtt_ms, dtype: int64"
      ]
     },
     "execution_count": 232,
     "metadata": {},
     "output_type": "execute_result"
    }
   ],
   "source": [
    "most_rtt_frq"
   ]
  },
  {
   "cell_type": "markdown",
   "id": "d3fe4d3f",
   "metadata": {},
   "source": [
    "10 of the top, bottom and most frequent:\n",
    "tcp throuput in the dataset."
   ]
  },
  {
   "cell_type": "code",
   "execution_count": 233,
   "id": "1d07ae96",
   "metadata": {},
   "outputs": [],
   "source": [
    "\n",
    "tcp_throuput = experience_agg_by_customer.sort_values(by=['avg_throughput_kbps'], ascending=False)\n",
    "\n",
    "top_10_throuput = tcp_throuput.head(10)\n",
    "bot_10_throuputt = tcp_throuput.tail(10)\n",
    "most_rtt_throuput = tcp_throuput['avg_throughput_kbps'].value_counts().head(10)\n",
    "\n"
   ]
  },
  {
   "cell_type": "code",
   "execution_count": 234,
   "id": "7a7872be",
   "metadata": {},
   "outputs": [
    {
     "data": {
      "text/html": [
       "<div>\n",
       "<style scoped>\n",
       "    .dataframe tbody tr th:only-of-type {\n",
       "        vertical-align: middle;\n",
       "    }\n",
       "\n",
       "    .dataframe tbody tr th {\n",
       "        vertical-align: top;\n",
       "    }\n",
       "\n",
       "    .dataframe thead th {\n",
       "        text-align: right;\n",
       "    }\n",
       "</style>\n",
       "<table border=\"1\" class=\"dataframe\">\n",
       "  <thead>\n",
       "    <tr style=\"text-align: right;\">\n",
       "      <th></th>\n",
       "      <th>avg_throughput_kbps</th>\n",
       "    </tr>\n",
       "    <tr>\n",
       "      <th>msisdn</th>\n",
       "      <th></th>\n",
       "    </tr>\n",
       "  </thead>\n",
       "  <tbody>\n",
       "    <tr>\n",
       "      <th>33762333464.0</th>\n",
       "      <td>902222.000000</td>\n",
       "    </tr>\n",
       "    <tr>\n",
       "      <th>33668708263.0</th>\n",
       "      <td>840424.000000</td>\n",
       "    </tr>\n",
       "    <tr>\n",
       "      <th>33659546392.0</th>\n",
       "      <td>798342.000000</td>\n",
       "    </tr>\n",
       "    <tr>\n",
       "      <th>33669946573.0</th>\n",
       "      <td>690815.000000</td>\n",
       "    </tr>\n",
       "    <tr>\n",
       "      <th>33668425947.0</th>\n",
       "      <td>676858.000000</td>\n",
       "    </tr>\n",
       "    <tr>\n",
       "      <th>33698174760.0</th>\n",
       "      <td>618797.000000</td>\n",
       "    </tr>\n",
       "    <tr>\n",
       "      <th>33625700673.0</th>\n",
       "      <td>564179.000000</td>\n",
       "    </tr>\n",
       "    <tr>\n",
       "      <th>33658075438.0</th>\n",
       "      <td>550352.000000</td>\n",
       "    </tr>\n",
       "    <tr>\n",
       "      <th>33762644658.0</th>\n",
       "      <td>549661.000000</td>\n",
       "    </tr>\n",
       "    <tr>\n",
       "      <th>33665658364.0</th>\n",
       "      <td>530353.000000</td>\n",
       "    </tr>\n",
       "  </tbody>\n",
       "</table>\n",
       "</div>"
      ],
      "text/plain": [
       "               avg_throughput_kbps\n",
       "msisdn                            \n",
       "33762333464.0        902222.000000\n",
       "33668708263.0        840424.000000\n",
       "33659546392.0        798342.000000\n",
       "33669946573.0        690815.000000\n",
       "33668425947.0        676858.000000\n",
       "33698174760.0        618797.000000\n",
       "33625700673.0        564179.000000\n",
       "33658075438.0        550352.000000\n",
       "33762644658.0        549661.000000\n",
       "33665658364.0        530353.000000"
      ]
     },
     "execution_count": 234,
     "metadata": {},
     "output_type": "execute_result"
    }
   ],
   "source": [
    "top_10_throuput[['avg_throughput_kbps']]"
   ]
  },
  {
   "cell_type": "code",
   "execution_count": null,
   "id": "96f0d1e1",
   "metadata": {},
   "outputs": [],
   "source": [
    "bot_10_throuput[['avg_throughput_kbps']]"
   ]
  },
  {
   "cell_type": "code",
   "execution_count": 235,
   "id": "d0344ca2",
   "metadata": {},
   "outputs": [
    {
     "data": {
      "text/plain": [
       "15.000000    2666\n",
       "63.000000    2057\n",
       "97.000000    1015\n",
       "90.000000     999\n",
       "98.000000     970\n",
       "96.000000     865\n",
       "99.000000     849\n",
       "89.000000     813\n",
       "95.000000     794\n",
       "91.000000     793\n",
       "Name: avg_throughput_kbps, dtype: int64"
      ]
     },
     "execution_count": 235,
     "metadata": {},
     "output_type": "execute_result"
    }
   ],
   "source": [
    "most_rtt_throuput"
   ]
  },
  {
   "cell_type": "markdown",
   "id": "7552a90e",
   "metadata": {},
   "source": [
    "#### Task 3.3"
   ]
  },
  {
   "cell_type": "markdown",
   "id": "fcb16e17",
   "metadata": {},
   "source": [
    "The distribution of the average throughput  per handset type and provide interpretation for your findings.\n"
   ]
  },
  {
   "cell_type": "code",
   "execution_count": 251,
   "id": "d5c35d75",
   "metadata": {},
   "outputs": [
    {
     "data": {
      "text/html": [
       "<div>\n",
       "<style scoped>\n",
       "    .dataframe tbody tr th:only-of-type {\n",
       "        vertical-align: middle;\n",
       "    }\n",
       "\n",
       "    .dataframe tbody tr th {\n",
       "        vertical-align: top;\n",
       "    }\n",
       "\n",
       "    .dataframe thead th {\n",
       "        text-align: right;\n",
       "    }\n",
       "</style>\n",
       "<table border=\"1\" class=\"dataframe\">\n",
       "  <thead>\n",
       "    <tr style=\"text-align: right;\">\n",
       "      <th></th>\n",
       "      <th>avg_throughput_kbps</th>\n",
       "      <th>tcp_retrans_bytes</th>\n",
       "    </tr>\n",
       "    <tr>\n",
       "      <th>handset_type</th>\n",
       "      <th></th>\n",
       "      <th></th>\n",
       "    </tr>\n",
       "  </thead>\n",
       "  <tbody>\n",
       "    <tr>\n",
       "      <th>A-Link Telecom I. Cubot A5</th>\n",
       "      <td>23510.000000</td>\n",
       "      <td>21569572.935153</td>\n",
       "    </tr>\n",
       "    <tr>\n",
       "      <th>A-Link Telecom I. Cubot Note Plus</th>\n",
       "      <td>6699.000000</td>\n",
       "      <td>616213.000000</td>\n",
       "    </tr>\n",
       "    <tr>\n",
       "      <th>A-Link Telecom I. Cubot Note S</th>\n",
       "      <td>8937.000000</td>\n",
       "      <td>41411731.000000</td>\n",
       "    </tr>\n",
       "    <tr>\n",
       "      <th>A-Link Telecom I. Cubot Nova</th>\n",
       "      <td>56217.000000</td>\n",
       "      <td>137170.000000</td>\n",
       "    </tr>\n",
       "    <tr>\n",
       "      <th>A-Link Telecom I. Cubot Power</th>\n",
       "      <td>69468.000000</td>\n",
       "      <td>8041.000000</td>\n",
       "    </tr>\n",
       "  </tbody>\n",
       "</table>\n",
       "</div>"
      ],
      "text/plain": [
       "                                   avg_throughput_kbps  tcp_retrans_bytes\n",
       "handset_type                                                             \n",
       "A-Link Telecom I. Cubot A5                23510.000000    21569572.935153\n",
       "A-Link Telecom I. Cubot Note Plus          6699.000000      616213.000000\n",
       "A-Link Telecom I. Cubot Note S             8937.000000    41411731.000000\n",
       "A-Link Telecom I. Cubot Nova              56217.000000      137170.000000\n",
       "A-Link Telecom I. Cubot Power             69468.000000        8041.000000"
      ]
     },
     "execution_count": 251,
     "metadata": {},
     "output_type": "execute_result"
    }
   ],
   "source": [
    "\n",
    "handsert_agg = experience_agg_by_customer.groupby('handset_type').agg({'avg_throughput_kbps': 'sum',\n",
    "                                                                       'tcp_retrans_bytes': 'sum'})\n",
    "handsert_agg.head()\n"
   ]
  },
  {
   "cell_type": "markdown",
   "id": "e0f68e45",
   "metadata": {},
   "source": [
    "the distribution of the average throughput  per handset type "
   ]
  },
  {
   "cell_type": "code",
   "execution_count": 257,
   "id": "157c1672",
   "metadata": {},
   "outputs": [
    {
     "data": {
      "image/png": "[encoded data removed]",
      "text/plain": [
       "<Figure size 648x504 with 1 Axes>"
      ]
     },
     "metadata": {
      "needs_background": "light"
     },
     "output_type": "display_data"
    },
    {
     "data": {
      "text/html": [
       "<div>\n",
       "<style scoped>\n",
       "    .dataframe tbody tr th:only-of-type {\n",
       "        vertical-align: middle;\n",
       "    }\n",
       "\n",
       "    .dataframe tbody tr th {\n",
       "        vertical-align: top;\n",
       "    }\n",
       "\n",
       "    .dataframe thead th {\n",
       "        text-align: right;\n",
       "    }\n",
       "</style>\n",
       "<table border=\"1\" class=\"dataframe\">\n",
       "  <thead>\n",
       "    <tr style=\"text-align: right;\">\n",
       "      <th></th>\n",
       "      <th>avg_throughput_kbps</th>\n",
       "      <th>tcp_retrans_bytes</th>\n",
       "    </tr>\n",
       "  </thead>\n",
       "  <tbody>\n",
       "    <tr>\n",
       "      <th>count</th>\n",
       "      <td>1393.000000</td>\n",
       "      <td>1393.000000</td>\n",
       "    </tr>\n",
       "    <tr>\n",
       "      <th>mean</th>\n",
       "      <td>1622818.561719</td>\n",
       "      <td>1583170499.782079</td>\n",
       "    </tr>\n",
       "    <tr>\n",
       "      <th>std</th>\n",
       "      <td>23386464.762413</td>\n",
       "      <td>11469806036.093708</td>\n",
       "    </tr>\n",
       "    <tr>\n",
       "      <th>min</th>\n",
       "      <td>0.000000</td>\n",
       "      <td>360.000000</td>\n",
       "    </tr>\n",
       "    <tr>\n",
       "      <th>25%</th>\n",
       "      <td>2868.000000</td>\n",
       "      <td>1524924.329622</td>\n",
       "    </tr>\n",
       "    <tr>\n",
       "      <th>50%</th>\n",
       "      <td>24566.000000</td>\n",
       "      <td>21569572.935153</td>\n",
       "    </tr>\n",
       "    <tr>\n",
       "      <th>75%</th>\n",
       "      <td>109668.000000</td>\n",
       "      <td>71621903.805459</td>\n",
       "    </tr>\n",
       "    <tr>\n",
       "      <th>max</th>\n",
       "      <td>842761726.000000</td>\n",
       "      <td>221207515514.048279</td>\n",
       "    </tr>\n",
       "  </tbody>\n",
       "</table>\n",
       "</div>"
      ],
      "text/plain": [
       "       avg_throughput_kbps   tcp_retrans_bytes\n",
       "count          1393.000000         1393.000000\n",
       "mean        1622818.561719   1583170499.782079\n",
       "std        23386464.762413  11469806036.093708\n",
       "min               0.000000          360.000000\n",
       "25%            2868.000000      1524924.329622\n",
       "50%           24566.000000     21569572.935153\n",
       "75%          109668.000000     71621903.805459\n",
       "max       842761726.000000 221207515514.048279"
      ]
     },
     "execution_count": 257,
     "metadata": {},
     "output_type": "execute_result"
    }
   ],
   "source": [
    "\n",
    "\n",
    "plots.plot_dist(handsert_agg[['avg_throughput_kbps']], 'avg_throughput_kbps')\n",
    "handsert_agg.describe()\n"
   ]
  },
  {
   "cell_type": "markdown",
   "id": "3183ad11",
   "metadata": {},
   "source": [
    "The distribution of the average average TCP retransmission view per handset type"
   ]
  },
  {
   "cell_type": "code",
   "execution_count": 258,
   "id": "6c06f1f4",
   "metadata": {},
   "outputs": [
    {
     "data": {
      "image/png": "[encoded data removed]",
      "text/plain": [
       "<Figure size 648x504 with 1 Axes>"
      ]
     },
     "metadata": {
      "needs_background": "light"
     },
     "output_type": "display_data"
    }
   ],
   "source": [
    "\n",
    "plots.plot_dist(handsert_agg[['tcp_retrans_bytes']], 'tcp_retrans_bytes')\n"
   ]
  },
  {
   "cell_type": "markdown",
   "id": "bdd1dd6d",
   "metadata": {},
   "source": [
    "### Task 3.4"
   ]
  },
  {
   "cell_type": "markdown",
   "id": "e290cf21",
   "metadata": {},
   "source": [
    "Using the experience metrics above, perform a k-means clustering (where k = 3) to segment users into groups of experiences "
   ]
  },
  {
   "cell_type": "code",
   "execution_count": 277,
   "id": "788511c4",
   "metadata": {},
   "outputs": [
    {
     "data": {
      "text/html": [
       "<div>\n",
       "<style scoped>\n",
       "    .dataframe tbody tr th:only-of-type {\n",
       "        vertical-align: middle;\n",
       "    }\n",
       "\n",
       "    .dataframe tbody tr th {\n",
       "        vertical-align: top;\n",
       "    }\n",
       "\n",
       "    .dataframe thead th {\n",
       "        text-align: right;\n",
       "    }\n",
       "</style>\n",
       "<table border=\"1\" class=\"dataframe\">\n",
       "  <thead>\n",
       "    <tr style=\"text-align: right;\">\n",
       "      <th></th>\n",
       "      <th>avg_rtt_ms</th>\n",
       "      <th>avg_throughput_kbps</th>\n",
       "      <th>tcp_retrans_bytes</th>\n",
       "      <th>handset_type</th>\n",
       "    </tr>\n",
       "    <tr>\n",
       "      <th>msisdn</th>\n",
       "      <th></th>\n",
       "      <th></th>\n",
       "      <th></th>\n",
       "      <th></th>\n",
       "    </tr>\n",
       "  </thead>\n",
       "  <tbody>\n",
       "    <tr>\n",
       "      <th>33601001722.0</th>\n",
       "      <td>46.000000</td>\n",
       "      <td>76.000000</td>\n",
       "      <td>21569572.935153</td>\n",
       "      <td>Huawei P20 Lite Huawei Nova 3E</td>\n",
       "    </tr>\n",
       "    <tr>\n",
       "      <th>33601001754.0</th>\n",
       "      <td>31.000000</td>\n",
       "      <td>99.000000</td>\n",
       "      <td>21569572.935153</td>\n",
       "      <td>Apple iPhone 7 (A1778)</td>\n",
       "    </tr>\n",
       "    <tr>\n",
       "      <th>33601002511.0</th>\n",
       "      <td>127.458589</td>\n",
       "      <td>97.000000</td>\n",
       "      <td>21569572.935153</td>\n",
       "      <td>Apple iPhone 7 Plus (A1784)</td>\n",
       "    </tr>\n",
       "    <tr>\n",
       "      <th>33601007832.0</th>\n",
       "      <td>84.000000</td>\n",
       "      <td>248.000000</td>\n",
       "      <td>760724.664811</td>\n",
       "      <td>Apple iPhone 5S (A1457)</td>\n",
       "    </tr>\n",
       "    <tr>\n",
       "      <th>33601008617.0</th>\n",
       "      <td>119.000000</td>\n",
       "      <td>56844.000000</td>\n",
       "      <td>30940404.935153</td>\n",
       "      <td>Apple iPhone Se (A1723)</td>\n",
       "    </tr>\n",
       "    <tr>\n",
       "      <th>...</th>\n",
       "      <td>...</td>\n",
       "      <td>...</td>\n",
       "      <td>...</td>\n",
       "      <td>...</td>\n",
       "    </tr>\n",
       "    <tr>\n",
       "      <th>33789996170.0</th>\n",
       "      <td>52.000000</td>\n",
       "      <td>10365.000000</td>\n",
       "      <td>218045.000000</td>\n",
       "      <td>Huawei Honor 9 Lite</td>\n",
       "    </tr>\n",
       "    <tr>\n",
       "      <th>33789997247.0</th>\n",
       "      <td>40.000000</td>\n",
       "      <td>116.000000</td>\n",
       "      <td>21569572.935153</td>\n",
       "      <td>Apple iPhone 8 Plus (A1897)</td>\n",
       "    </tr>\n",
       "    <tr>\n",
       "      <th>3197020876596.0</th>\n",
       "      <td>127.458589</td>\n",
       "      <td>1.000000</td>\n",
       "      <td>21569572.935153</td>\n",
       "      <td>Quectel Wireless. Quectel Ec25-E</td>\n",
       "    </tr>\n",
       "    <tr>\n",
       "      <th>337000037000919.0</th>\n",
       "      <td>127.458589</td>\n",
       "      <td>33.000000</td>\n",
       "      <td>21569572.935153</td>\n",
       "      <td>Huawei B525S-23A</td>\n",
       "    </tr>\n",
       "    <tr>\n",
       "      <th>882397108489451.0</th>\n",
       "      <td>127.458589</td>\n",
       "      <td>2.000000</td>\n",
       "      <td>21569572.935153</td>\n",
       "      <td>Quectel Wireless. Quectel Ec21-E</td>\n",
       "    </tr>\n",
       "  </tbody>\n",
       "</table>\n",
       "<p>106856 rows × 4 columns</p>\n",
       "</div>"
      ],
      "text/plain": [
       "                   avg_rtt_ms  avg_throughput_kbps  tcp_retrans_bytes  \\\n",
       "msisdn                                                                  \n",
       "33601001722.0       46.000000            76.000000    21569572.935153   \n",
       "33601001754.0       31.000000            99.000000    21569572.935153   \n",
       "33601002511.0      127.458589            97.000000    21569572.935153   \n",
       "33601007832.0       84.000000           248.000000      760724.664811   \n",
       "33601008617.0      119.000000         56844.000000    30940404.935153   \n",
       "...                       ...                  ...                ...   \n",
       "33789996170.0       52.000000         10365.000000      218045.000000   \n",
       "33789997247.0       40.000000           116.000000    21569572.935153   \n",
       "3197020876596.0    127.458589             1.000000    21569572.935153   \n",
       "337000037000919.0  127.458589            33.000000    21569572.935153   \n",
       "882397108489451.0  127.458589             2.000000    21569572.935153   \n",
       "\n",
       "                                       handset_type  \n",
       "msisdn                                               \n",
       "33601001722.0        Huawei P20 Lite Huawei Nova 3E  \n",
       "33601001754.0                Apple iPhone 7 (A1778)  \n",
       "33601002511.0           Apple iPhone 7 Plus (A1784)  \n",
       "33601007832.0               Apple iPhone 5S (A1457)  \n",
       "33601008617.0               Apple iPhone Se (A1723)  \n",
       "...                                             ...  \n",
       "33789996170.0                   Huawei Honor 9 Lite  \n",
       "33789997247.0           Apple iPhone 8 Plus (A1897)  \n",
       "3197020876596.0    Quectel Wireless. Quectel Ec25-E  \n",
       "337000037000919.0                  Huawei B525S-23A  \n",
       "882397108489451.0  Quectel Wireless. Quectel Ec21-E  \n",
       "\n",
       "[106856 rows x 4 columns]"
      ]
     },
     "execution_count": 277,
     "metadata": {},
     "output_type": "execute_result"
    }
   ],
   "source": [
    "experience_agg_by_customer"
   ]
  },
  {
   "cell_type": "code",
   "execution_count": 322,
   "id": "03440e89",
   "metadata": {},
   "outputs": [],
   "source": [
    "from sklearn.preprocessing import Normalizer, MinMaxScaler\n",
    "from sklearn.cluster import KMeans\n",
    "\n",
    "\n",
    "def normalizer(df, columns):\n",
    "    norm = Normalizer()\n",
    "    return pd.DataFrame(norm.fit_transform(df), columns=columns)\n",
    "\n",
    "def scaler(df, columns):\n",
    "    minmax_scaler = MinMaxScaler()\n",
    "    return pd.DataFrame(minmax_scaler.fit_transform(df), columns=columns)\n",
    "\n",
    "def scale_and_normalize(df,columns ):\n",
    "    return normalizer(scaler(df, columns), columns)"
   ]
  },
  {
   "cell_type": "code",
   "execution_count": 323,
   "id": "568dec30",
   "metadata": {},
   "outputs": [],
   "source": [
    "def cluser_label(x: int, cols: list = []) -> str:\n",
    "    if (not type(x) == int):\n",
    "        return x\n",
    "    if (x < len(cols)):\n",
    "        return cols[x]\n",
    "\n",
    "    return str(x)"
   ]
  },
  {
   "cell_type": "markdown",
   "id": "a20ee4d1",
   "metadata": {},
   "source": [
    "Normalization"
   ]
  },
  {
   "cell_type": "code",
   "execution_count": 324,
   "id": "232494ac",
   "metadata": {},
   "outputs": [
    {
     "data": {
      "text/html": [
       "<div>\n",
       "<style scoped>\n",
       "    .dataframe tbody tr th:only-of-type {\n",
       "        vertical-align: middle;\n",
       "    }\n",
       "\n",
       "    .dataframe tbody tr th {\n",
       "        vertical-align: top;\n",
       "    }\n",
       "\n",
       "    .dataframe thead th {\n",
       "        text-align: right;\n",
       "    }\n",
       "</style>\n",
       "<table border=\"1\" class=\"dataframe\">\n",
       "  <thead>\n",
       "    <tr style=\"text-align: right;\">\n",
       "      <th></th>\n",
       "      <th>avg_rtt_ms</th>\n",
       "      <th>avg_throughput_kbps</th>\n",
       "      <th>tcp_retrans_bytes</th>\n",
       "    </tr>\n",
       "  </thead>\n",
       "  <tbody>\n",
       "    <tr>\n",
       "      <th>count</th>\n",
       "      <td>106856.000000</td>\n",
       "      <td>106856.000000</td>\n",
       "      <td>106856.000000</td>\n",
       "    </tr>\n",
       "    <tr>\n",
       "      <th>mean</th>\n",
       "      <td>0.168462</td>\n",
       "      <td>0.444425</td>\n",
       "      <td>0.564072</td>\n",
       "    </tr>\n",
       "    <tr>\n",
       "      <th>std</th>\n",
       "      <td>0.198970</td>\n",
       "      <td>0.461531</td>\n",
       "      <td>0.450926</td>\n",
       "    </tr>\n",
       "    <tr>\n",
       "      <th>min</th>\n",
       "      <td>0.000000</td>\n",
       "      <td>0.000000</td>\n",
       "      <td>0.000000</td>\n",
       "    </tr>\n",
       "    <tr>\n",
       "      <th>25%</th>\n",
       "      <td>0.041622</td>\n",
       "      <td>0.024173</td>\n",
       "      <td>0.039367</td>\n",
       "    </tr>\n",
       "    <tr>\n",
       "      <th>50%</th>\n",
       "      <td>0.096434</td>\n",
       "      <td>0.059606</td>\n",
       "      <td>0.952682</td>\n",
       "    </tr>\n",
       "    <tr>\n",
       "      <th>75%</th>\n",
       "      <td>0.301804</td>\n",
       "      <td>0.995494</td>\n",
       "      <td>0.989847</td>\n",
       "    </tr>\n",
       "    <tr>\n",
       "      <th>max</th>\n",
       "      <td>1.000000</td>\n",
       "      <td>0.999999</td>\n",
       "      <td>0.999743</td>\n",
       "    </tr>\n",
       "  </tbody>\n",
       "</table>\n",
       "</div>"
      ],
      "text/plain": [
       "         avg_rtt_ms  avg_throughput_kbps  tcp_retrans_bytes\n",
       "count 106856.000000        106856.000000      106856.000000\n",
       "mean       0.168462             0.444425           0.564072\n",
       "std        0.198970             0.461531           0.450926\n",
       "min        0.000000             0.000000           0.000000\n",
       "25%        0.041622             0.024173           0.039367\n",
       "50%        0.096434             0.059606           0.952682\n",
       "75%        0.301804             0.995494           0.989847\n",
       "max        1.000000             0.999999           0.999743"
      ]
     },
     "execution_count": 324,
     "metadata": {},
     "output_type": "execute_result"
    }
   ],
   "source": [
    "\n",
    "metrics = experience_agg_by_customer[['avg_rtt_ms', 'avg_throughput_kbps', 'tcp_retrans_bytes']]\n",
    "normalized_metrics = scale_and_normalize(metrics, ['avg_rtt_ms', 'avg_throughput_kbps', 'tcp_retrans_bytes'])\n",
    "normalized_metrics.describe()\n"
   ]
  },
  {
   "cell_type": "code",
   "execution_count": 325,
   "id": "eb86bae9",
   "metadata": {},
   "outputs": [
    {
     "data": {
      "text/plain": [
       "0    57713\n",
       "1    44204\n",
       "2     4939\n",
       "Name: clusters, dtype: int64"
      ]
     },
     "execution_count": 325,
     "metadata": {},
     "output_type": "execute_result"
    }
   ],
   "source": [
    "kmeans = KMeans(n_clusters=3, init='k-means++').fit(normalized_metrics)\n",
    "pred = kmeans.predict(normalized_metrics)\n",
    "\n",
    "experience_metrics_with_cluster = experience_agg_by_customer.copy()\n",
    "experience_metrics_with_cluster['clusters'] = pred\n",
    "experience_metrics_with_cluster['clusters'].value_counts()"
   ]
  },
  {
   "cell_type": "code",
   "execution_count": 330,
   "id": "da6ece02",
   "metadata": {},
   "outputs": [
    {
     "data": {
      "image/png": "[encoded data removed]",
      "text/plain": [
       "<Figure size 1080x1080 with 1 Axes>"
      ]
     },
     "metadata": {
      "needs_background": "light"
     },
     "output_type": "display_data"
    }
   ],
   "source": [
    "labels = ['cluser_1', 'cluser_2', 'cluser_3']\n",
    "\n",
    "experience_metrics_with_cluster['clusters']  = experience_metrics_with_cluster['clusters'].map(lambda x:\n",
    "                                                                                             cluser_label(x, labels))\n",
    "\n",
    "plt.figure(figsize=(15,15))\n",
    "\n",
    "sns.scatterplot(x = 'avg_throughput_kbps', y='avg_rtt_ms',\n",
    "                hue='clusters', data=experience_metrics_with_cluster).set_title('Clusters of user engagement metric')\n",
    "\n",
    "plt.show()\n"
   ]
  },
  {
   "cell_type": "code",
   "execution_count": null,
   "id": "b02cf49d",
   "metadata": {},
   "outputs": [],
   "source": []
  },
  {
   "cell_type": "code",
   "execution_count": null,
   "id": "084fb256",
   "metadata": {},
   "outputs": [],
   "source": []
  }
 ],
 "metadata": {
  "kernelspec": {
   "display_name": "Python 3",
   "language": "python",
   "name": "python3"
  },
  "language_info": {
   "codemirror_mode": {
    "name": "ipython",
    "version": 3
   },
   "file_extension": ".py",
   "mimetype": "text/x-python",
   "name": "python",
   "nbconvert_exporter": "python",
   "pygments_lexer": "ipython3",
   "version": "3.9.4"
  }
 },
 "nbformat": 4,
 "nbformat_minor": 5
}
