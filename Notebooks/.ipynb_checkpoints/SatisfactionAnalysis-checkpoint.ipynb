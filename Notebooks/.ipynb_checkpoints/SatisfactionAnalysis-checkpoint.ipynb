{
 "cells": [
  {
   "cell_type": "code",
   "execution_count": 26,
   "id": "170b0b10",
   "metadata": {},
   "outputs": [],
   "source": [
    "import os\n",
    "import sys\n",
    "sys.path.append(os.path.abspath(os.path.join('../scripts')))\n",
    "import seaborn as sns\n",
    "import matplotlib.pyplot as plt\n",
    "%matplotlib inline\n",
    "\n",
    "import plotly.express as px"
   ]
  },
  {
   "cell_type": "code",
   "execution_count": 27,
   "id": "2ee8092d",
   "metadata": {},
   "outputs": [],
   "source": [
    "import numpy as np\n",
    "import pandas as pd\n",
    "from helper import TelecomHelper\n",
    "import plots\n",
    "from clean_telecom_df import CleanTelecomData\n",
    "\n",
    "pd.options.display.float_format = \"{:.6f}\".format"
   ]
  },
  {
   "cell_type": "code",
   "execution_count": 28,
   "id": "af0153fa",
   "metadata": {},
   "outputs": [],
   "source": [
    "engagment_path = \"../data/user_engagement.csv\"\n",
    "experience_path = \"../data/user_experience_metrics.csv\""
   ]
  },
  {
   "cell_type": "code",
   "execution_count": 39,
   "id": "ff23abec",
   "metadata": {},
   "outputs": [
    {
     "name": "stdout",
     "output_type": "stream",
     "text": [
      "file read as csv\n",
      "file read as csv\n"
     ]
    }
   ],
   "source": [
    "Helper = TelecomHelper()\n",
    "\n",
    "user_engagement = Helper.read_csv(engagment_path)\n",
    "user_experience = Helper.read_csv(experience_path)\n",
    "\n"
   ]
  },
  {
   "cell_type": "code",
   "execution_count": 40,
   "id": "90d80512",
   "metadata": {},
   "outputs": [
    {
     "data": {
      "text/html": [
       "<div>\n",
       "<style scoped>\n",
       "    .dataframe tbody tr th:only-of-type {\n",
       "        vertical-align: middle;\n",
       "    }\n",
       "\n",
       "    .dataframe tbody tr th {\n",
       "        vertical-align: top;\n",
       "    }\n",
       "\n",
       "    .dataframe thead th {\n",
       "        text-align: right;\n",
       "    }\n",
       "</style>\n",
       "<table border=\"1\" class=\"dataframe\">\n",
       "  <thead>\n",
       "    <tr style=\"text-align: right;\">\n",
       "      <th></th>\n",
       "      <th>sessions_frequency</th>\n",
       "      <th>duration</th>\n",
       "      <th>total_traffic</th>\n",
       "      <th>clusters</th>\n",
       "      <th>enga_score</th>\n",
       "      <th>engagment_score</th>\n",
       "      <th>msisdn</th>\n",
       "    </tr>\n",
       "  </thead>\n",
       "  <tbody>\n",
       "    <tr>\n",
       "      <th>0</th>\n",
       "      <td>1.000000</td>\n",
       "      <td>116720.000000</td>\n",
       "      <td>878690574.000000</td>\n",
       "      <td>2</td>\n",
       "      <td>532090434.027460</td>\n",
       "      <td>1187508034.903370</td>\n",
       "      <td>33601001722.000000</td>\n",
       "    </tr>\n",
       "    <tr>\n",
       "      <th>1</th>\n",
       "      <td>1.000000</td>\n",
       "      <td>181230.000000</td>\n",
       "      <td>156859643.000000</td>\n",
       "      <td>0</td>\n",
       "      <td>1253921354.366432</td>\n",
       "      <td>248329169.269407</td>\n",
       "      <td>33601001754.000000</td>\n",
       "    </tr>\n",
       "    <tr>\n",
       "      <th>2</th>\n",
       "      <td>1.000000</td>\n",
       "      <td>134969.000000</td>\n",
       "      <td>595966483.000000</td>\n",
       "      <td>0</td>\n",
       "      <td>814814518.758926</td>\n",
       "      <td>504019763.292543</td>\n",
       "      <td>33601002511.000000</td>\n",
       "    </tr>\n",
       "    <tr>\n",
       "      <th>3</th>\n",
       "      <td>1.000000</td>\n",
       "      <td>49878.000000</td>\n",
       "      <td>422320698.000000</td>\n",
       "      <td>2</td>\n",
       "      <td>988460314.457223</td>\n",
       "      <td>128363063.019269</td>\n",
       "      <td>33601007832.000000</td>\n",
       "    </tr>\n",
       "    <tr>\n",
       "      <th>4</th>\n",
       "      <td>2.000000</td>\n",
       "      <td>37104.000000</td>\n",
       "      <td>1457410944.000000</td>\n",
       "      <td>2</td>\n",
       "      <td>46630335.773752</td>\n",
       "      <td>2334064474.537566</td>\n",
       "      <td>33601008617.000000</td>\n",
       "    </tr>\n",
       "  </tbody>\n",
       "</table>\n",
       "</div>"
      ],
      "text/plain": [
       "   sessions_frequency      duration     total_traffic  clusters  \\\n",
       "0            1.000000 116720.000000  878690574.000000         2   \n",
       "1            1.000000 181230.000000  156859643.000000         0   \n",
       "2            1.000000 134969.000000  595966483.000000         0   \n",
       "3            1.000000  49878.000000  422320698.000000         2   \n",
       "4            2.000000  37104.000000 1457410944.000000         2   \n",
       "\n",
       "         enga_score   engagment_score             msisdn  \n",
       "0  532090434.027460 1187508034.903370 33601001722.000000  \n",
       "1 1253921354.366432  248329169.269407 33601001754.000000  \n",
       "2  814814518.758926  504019763.292543 33601002511.000000  \n",
       "3  988460314.457223  128363063.019269 33601007832.000000  \n",
       "4   46630335.773752 2334064474.537566 33601008617.000000  "
      ]
     },
     "execution_count": 40,
     "metadata": {},
     "output_type": "execute_result"
    }
   ],
   "source": [
    "user_engagement = user_engagement.rename(columns={'score': 'engagment_score'})\n",
    "user_engagement.head()"
   ]
  },
  {
   "cell_type": "code",
   "execution_count": 43,
   "id": "f8bca50b",
   "metadata": {},
   "outputs": [
    {
     "data": {
      "text/html": [
       "<div>\n",
       "<style scoped>\n",
       "    .dataframe tbody tr th:only-of-type {\n",
       "        vertical-align: middle;\n",
       "    }\n",
       "\n",
       "    .dataframe tbody tr th {\n",
       "        vertical-align: top;\n",
       "    }\n",
       "\n",
       "    .dataframe thead th {\n",
       "        text-align: right;\n",
       "    }\n",
       "</style>\n",
       "<table border=\"1\" class=\"dataframe\">\n",
       "  <thead>\n",
       "    <tr style=\"text-align: right;\">\n",
       "      <th></th>\n",
       "      <th>avg_rtt_ms</th>\n",
       "      <th>avg_throughput_kbps</th>\n",
       "      <th>tcp_retrans_bytes</th>\n",
       "      <th>clusters</th>\n",
       "      <th>experience_score</th>\n",
       "      <th>msisdn</th>\n",
       "    </tr>\n",
       "  </thead>\n",
       "  <tbody>\n",
       "    <tr>\n",
       "      <th>0</th>\n",
       "      <td>46.000000</td>\n",
       "      <td>76.000000</td>\n",
       "      <td>21825280.436430</td>\n",
       "      <td>0</td>\n",
       "      <td>2749874775.790747</td>\n",
       "      <td>33601001722.000000</td>\n",
       "    </tr>\n",
       "    <tr>\n",
       "      <th>1</th>\n",
       "      <td>31.000000</td>\n",
       "      <td>99.000000</td>\n",
       "      <td>21825280.436430</td>\n",
       "      <td>0</td>\n",
       "      <td>2749874775.789351</td>\n",
       "      <td>33601001754.000000</td>\n",
       "    </tr>\n",
       "    <tr>\n",
       "      <th>2</th>\n",
       "      <td>123.593439</td>\n",
       "      <td>97.000000</td>\n",
       "      <td>21825280.436430</td>\n",
       "      <td>0</td>\n",
       "      <td>2749874775.789466</td>\n",
       "      <td>33601002511.000000</td>\n",
       "    </tr>\n",
       "    <tr>\n",
       "      <th>3</th>\n",
       "      <td>84.000000</td>\n",
       "      <td>248.000000</td>\n",
       "      <td>773968.274842</td>\n",
       "      <td>2</td>\n",
       "      <td>2770926087.903410</td>\n",
       "      <td>33601007832.000000</td>\n",
       "    </tr>\n",
       "    <tr>\n",
       "      <th>4</th>\n",
       "      <td>119.000000</td>\n",
       "      <td>56844.000000</td>\n",
       "      <td>31196112.436430</td>\n",
       "      <td>1</td>\n",
       "      <td>2740503940.935281</td>\n",
       "      <td>33601008617.000000</td>\n",
       "    </tr>\n",
       "  </tbody>\n",
       "</table>\n",
       "</div>"
      ],
      "text/plain": [
       "   avg_rtt_ms  avg_throughput_kbps  tcp_retrans_bytes  clusters  \\\n",
       "0   46.000000            76.000000    21825280.436430         0   \n",
       "1   31.000000            99.000000    21825280.436430         0   \n",
       "2  123.593439            97.000000    21825280.436430         0   \n",
       "3   84.000000           248.000000      773968.274842         2   \n",
       "4  119.000000         56844.000000    31196112.436430         1   \n",
       "\n",
       "   experience_score             msisdn  \n",
       "0 2749874775.790747 33601001722.000000  \n",
       "1 2749874775.789351 33601001754.000000  \n",
       "2 2749874775.789466 33601002511.000000  \n",
       "3 2770926087.903410 33601007832.000000  \n",
       "4 2740503940.935281 33601008617.000000  "
      ]
     },
     "execution_count": 43,
     "metadata": {},
     "output_type": "execute_result"
    }
   ],
   "source": [
    "\n",
    "user_experience = user_experience.rename(columns={'score': 'experience_score'})\n",
    "user_experience.head()"
   ]
  },
  {
   "cell_type": "markdown",
   "id": "83720c53",
   "metadata": {},
   "source": [
    "### Task 4.2"
   ]
  },
  {
   "cell_type": "markdown",
   "id": "74390f73",
   "metadata": {},
   "source": [
    "The average of both engagement & experience scores as  the satisfaction score"
   ]
  },
  {
   "cell_type": "code",
   "execution_count": 44,
   "id": "f82a768f",
   "metadata": {},
   "outputs": [
    {
     "data": {
      "text/html": [
       "<div>\n",
       "<style scoped>\n",
       "    .dataframe tbody tr th:only-of-type {\n",
       "        vertical-align: middle;\n",
       "    }\n",
       "\n",
       "    .dataframe tbody tr th {\n",
       "        vertical-align: top;\n",
       "    }\n",
       "\n",
       "    .dataframe thead th {\n",
       "        text-align: right;\n",
       "    }\n",
       "</style>\n",
       "<table border=\"1\" class=\"dataframe\">\n",
       "  <thead>\n",
       "    <tr style=\"text-align: right;\">\n",
       "      <th></th>\n",
       "      <th>sessions_frequency</th>\n",
       "      <th>duration</th>\n",
       "      <th>total_traffic</th>\n",
       "      <th>clusters</th>\n",
       "      <th>enga_score</th>\n",
       "      <th>engagment_score</th>\n",
       "      <th>msisdn</th>\n",
       "    </tr>\n",
       "  </thead>\n",
       "  <tbody>\n",
       "    <tr>\n",
       "      <th>0</th>\n",
       "      <td>1.000000</td>\n",
       "      <td>116720.000000</td>\n",
       "      <td>878690574.000000</td>\n",
       "      <td>2</td>\n",
       "      <td>532090434.027460</td>\n",
       "      <td>1187508034.903370</td>\n",
       "      <td>33601001722.000000</td>\n",
       "    </tr>\n",
       "    <tr>\n",
       "      <th>1</th>\n",
       "      <td>1.000000</td>\n",
       "      <td>181230.000000</td>\n",
       "      <td>156859643.000000</td>\n",
       "      <td>0</td>\n",
       "      <td>1253921354.366432</td>\n",
       "      <td>248329169.269407</td>\n",
       "      <td>33601001754.000000</td>\n",
       "    </tr>\n",
       "    <tr>\n",
       "      <th>2</th>\n",
       "      <td>1.000000</td>\n",
       "      <td>134969.000000</td>\n",
       "      <td>595966483.000000</td>\n",
       "      <td>0</td>\n",
       "      <td>814814518.758926</td>\n",
       "      <td>504019763.292543</td>\n",
       "      <td>33601002511.000000</td>\n",
       "    </tr>\n",
       "    <tr>\n",
       "      <th>3</th>\n",
       "      <td>1.000000</td>\n",
       "      <td>49878.000000</td>\n",
       "      <td>422320698.000000</td>\n",
       "      <td>2</td>\n",
       "      <td>988460314.457223</td>\n",
       "      <td>128363063.019269</td>\n",
       "      <td>33601007832.000000</td>\n",
       "    </tr>\n",
       "    <tr>\n",
       "      <th>4</th>\n",
       "      <td>2.000000</td>\n",
       "      <td>37104.000000</td>\n",
       "      <td>1457410944.000000</td>\n",
       "      <td>2</td>\n",
       "      <td>46630335.773752</td>\n",
       "      <td>2334064474.537566</td>\n",
       "      <td>33601008617.000000</td>\n",
       "    </tr>\n",
       "    <tr>\n",
       "      <th>...</th>\n",
       "      <td>...</td>\n",
       "      <td>...</td>\n",
       "      <td>...</td>\n",
       "      <td>...</td>\n",
       "      <td>...</td>\n",
       "      <td>...</td>\n",
       "      <td>...</td>\n",
       "    </tr>\n",
       "    <tr>\n",
       "      <th>105714</th>\n",
       "      <td>1.000000</td>\n",
       "      <td>160461.000000</td>\n",
       "      <td>208123067.000000</td>\n",
       "      <td>0</td>\n",
       "      <td>1202657931.379292</td>\n",
       "      <td>192284797.946569</td>\n",
       "      <td>33789967113.000000</td>\n",
       "    </tr>\n",
       "    <tr>\n",
       "      <th>105715</th>\n",
       "      <td>2.000000</td>\n",
       "      <td>210389.000000</td>\n",
       "      <td>1094693386.000000</td>\n",
       "      <td>1</td>\n",
       "      <td>316087610.974151</td>\n",
       "      <td>1709868528.205170</td>\n",
       "      <td>33789980299.000000</td>\n",
       "    </tr>\n",
       "    <tr>\n",
       "      <th>105716</th>\n",
       "      <td>1.000000</td>\n",
       "      <td>8810.000000</td>\n",
       "      <td>714641641.000000</td>\n",
       "      <td>2</td>\n",
       "      <td>696139389.835040</td>\n",
       "      <td>789684256.648069</td>\n",
       "      <td>33789996170.000000</td>\n",
       "    </tr>\n",
       "    <tr>\n",
       "      <th>105717</th>\n",
       "      <td>1.000000</td>\n",
       "      <td>140988.000000</td>\n",
       "      <td>480307335.000000</td>\n",
       "      <td>0</td>\n",
       "      <td>930473665.528846</td>\n",
       "      <td>236001223.065851</td>\n",
       "      <td>33789997247.000000</td>\n",
       "    </tr>\n",
       "    <tr>\n",
       "      <th>105718</th>\n",
       "      <td>1.000000</td>\n",
       "      <td>253030.000000</td>\n",
       "      <td>596287824.000000</td>\n",
       "      <td>0</td>\n",
       "      <td>814493172.919777</td>\n",
       "      <td>504786819.719728</td>\n",
       "      <td>337000037000919.000000</td>\n",
       "    </tr>\n",
       "  </tbody>\n",
       "</table>\n",
       "<p>105719 rows × 7 columns</p>\n",
       "</div>"
      ],
      "text/plain": [
       "        sessions_frequency      duration     total_traffic  clusters  \\\n",
       "0                 1.000000 116720.000000  878690574.000000         2   \n",
       "1                 1.000000 181230.000000  156859643.000000         0   \n",
       "2                 1.000000 134969.000000  595966483.000000         0   \n",
       "3                 1.000000  49878.000000  422320698.000000         2   \n",
       "4                 2.000000  37104.000000 1457410944.000000         2   \n",
       "...                    ...           ...               ...       ...   \n",
       "105714            1.000000 160461.000000  208123067.000000         0   \n",
       "105715            2.000000 210389.000000 1094693386.000000         1   \n",
       "105716            1.000000   8810.000000  714641641.000000         2   \n",
       "105717            1.000000 140988.000000  480307335.000000         0   \n",
       "105718            1.000000 253030.000000  596287824.000000         0   \n",
       "\n",
       "              enga_score   engagment_score                 msisdn  \n",
       "0       532090434.027460 1187508034.903370     33601001722.000000  \n",
       "1      1253921354.366432  248329169.269407     33601001754.000000  \n",
       "2       814814518.758926  504019763.292543     33601002511.000000  \n",
       "3       988460314.457223  128363063.019269     33601007832.000000  \n",
       "4        46630335.773752 2334064474.537566     33601008617.000000  \n",
       "...                  ...               ...                    ...  \n",
       "105714 1202657931.379292  192284797.946569     33789967113.000000  \n",
       "105715  316087610.974151 1709868528.205170     33789980299.000000  \n",
       "105716  696139389.835040  789684256.648069     33789996170.000000  \n",
       "105717  930473665.528846  236001223.065851     33789997247.000000  \n",
       "105718  814493172.919777  504786819.719728 337000037000919.000000  \n",
       "\n",
       "[105719 rows x 7 columns]"
      ]
     },
     "execution_count": 44,
     "metadata": {},
     "output_type": "execute_result"
    }
   ],
   "source": [
    "user_engagement"
   ]
  },
  {
   "cell_type": "code",
   "execution_count": 51,
   "id": "9aa70151",
   "metadata": {},
   "outputs": [
    {
     "data": {
      "text/html": [
       "<div>\n",
       "<style scoped>\n",
       "    .dataframe tbody tr th:only-of-type {\n",
       "        vertical-align: middle;\n",
       "    }\n",
       "\n",
       "    .dataframe tbody tr th {\n",
       "        vertical-align: top;\n",
       "    }\n",
       "\n",
       "    .dataframe thead th {\n",
       "        text-align: right;\n",
       "    }\n",
       "</style>\n",
       "<table border=\"1\" class=\"dataframe\">\n",
       "  <thead>\n",
       "    <tr style=\"text-align: right;\">\n",
       "      <th></th>\n",
       "      <th>msisdn</th>\n",
       "      <th>engagment_score</th>\n",
       "      <th>experience_score</th>\n",
       "      <th>satisfaction_score</th>\n",
       "    </tr>\n",
       "  </thead>\n",
       "  <tbody>\n",
       "    <tr>\n",
       "      <th>0</th>\n",
       "      <td>33601001722.000000</td>\n",
       "      <td>1187508034.903370</td>\n",
       "      <td>2749874775.790747</td>\n",
       "      <td>1968691405.347058</td>\n",
       "    </tr>\n",
       "    <tr>\n",
       "      <th>1</th>\n",
       "      <td>33601001754.000000</td>\n",
       "      <td>248329169.269407</td>\n",
       "      <td>2749874775.789351</td>\n",
       "      <td>1499101972.529379</td>\n",
       "    </tr>\n",
       "    <tr>\n",
       "      <th>2</th>\n",
       "      <td>33601002511.000000</td>\n",
       "      <td>504019763.292543</td>\n",
       "      <td>2749874775.789466</td>\n",
       "      <td>1626947269.541005</td>\n",
       "    </tr>\n",
       "    <tr>\n",
       "      <th>3</th>\n",
       "      <td>33601007832.000000</td>\n",
       "      <td>128363063.019269</td>\n",
       "      <td>2770926087.903410</td>\n",
       "      <td>1449644575.461339</td>\n",
       "    </tr>\n",
       "    <tr>\n",
       "      <th>4</th>\n",
       "      <td>33601008617.000000</td>\n",
       "      <td>2334064474.537566</td>\n",
       "      <td>2740503940.935281</td>\n",
       "      <td>2537284207.736423</td>\n",
       "    </tr>\n",
       "  </tbody>\n",
       "</table>\n",
       "</div>"
      ],
      "text/plain": [
       "              msisdn   engagment_score  experience_score  satisfaction_score\n",
       "0 33601001722.000000 1187508034.903370 2749874775.790747   1968691405.347058\n",
       "1 33601001754.000000  248329169.269407 2749874775.789351   1499101972.529379\n",
       "2 33601002511.000000  504019763.292543 2749874775.789466   1626947269.541005\n",
       "3 33601007832.000000  128363063.019269 2770926087.903410   1449644575.461339\n",
       "4 33601008617.000000 2334064474.537566 2740503940.935281   2537284207.736423"
      ]
     },
     "execution_count": 51,
     "metadata": {},
     "output_type": "execute_result"
    }
   ],
   "source": [
    "\n",
    "satisfaction_metrics = pd.merge(user_engagement, user_experience, on=\"msisdn\")\n",
    "satisfaction_metrics['satisfaction_score'] = (satisfaction_metrics['engagment_score'] +\n",
    "                                              satisfaction_metrics['experience_score']) / 2\n",
    "\n",
    "score_df = satisfaction_metrics[['msisdn', 'engagment_score',\n",
    "                                              'experience_score', 'satisfaction_score']]\n",
    "\n"
   ]
  },
  {
   "cell_type": "markdown",
   "id": "651aa444",
   "metadata": {},
   "source": [
    "Top 10 satisfied customer "
   ]
  },
  {
   "cell_type": "code",
   "execution_count": 158,
   "id": "610630e2",
   "metadata": {},
   "outputs": [],
   "source": [
    "from sklearn.preprocessing import Normalizer, MinMaxScaler\n",
    "from sklearn.cluster import KMeans\n",
    "from sklearn.linear_model import LinearRegression\n",
    "\n",
    "\n",
    "\n",
    "def normalizer(df, columns):\n",
    "    norm = Normalizer()\n",
    "    return pd.DataFrame(norm.fit_transform(df), columns=columns)\n",
    "\n",
    "def scaler(df, columns):\n",
    "    minmax_scaler = MinMaxScaler()\n",
    "    return pd.DataFrame(minmax_scaler.fit_transform(df), columns=columns)\n",
    "\n",
    "def scale_and_normalize(df,columns ):\n",
    "    return normalizer(scaler(df, columns), columns)"
   ]
  },
  {
   "cell_type": "code",
   "execution_count": 98,
   "id": "5a8b2cdd",
   "metadata": {},
   "outputs": [
    {
     "data": {
      "image/png": "[encoded data removed]",
      "text/plain": [
       "<Figure size 432x288 with 1 Axes>"
      ]
     },
     "metadata": {
      "needs_background": "light"
     },
     "output_type": "display_data"
    },
    {
     "data": {
      "image/png": "[encoded data removed]",
      "text/plain": [
       "<Figure size 432x288 with 1 Axes>"
      ]
     },
     "metadata": {
      "needs_background": "light"
     },
     "output_type": "display_data"
    },
    {
     "data": {
      "image/png": "[encoded data removed]",
      "text/plain": [
       "<Figure size 648x504 with 1 Axes>"
      ]
     },
     "metadata": {
      "needs_background": "light"
     },
     "output_type": "display_data"
    }
   ],
   "source": [
    "\n",
    "top_10_satisfied = score_df.sort_values(by=['satisfaction_score'], ascending=False).head(10)\n",
    "\n",
    "scaled_top_score = scaler(top_10_satisfied[['satisfaction_score']], ['satisfaction_score'])\n",
    "scaled_top_score['msisdn'] = top_10_satisfied['msisdn'].to_list()\n",
    "\n",
    "top_10_satisfied.plot(kind=\"bar\", x='msisdn', y='satisfaction_score', rot=25)\n",
    "\n",
    "scaled_top_score.plot(kind=\"bar\", x='msisdn', y='satisfaction_score', rot=25)\n",
    "\n",
    "plots.plot_bar(top_10_satisfied, 'msisdn', 'satisfaction_score', 'Top 10 Statisfied Customers', 'msisdn', 'score')\n",
    "\n",
    "# scaled_top_score\n"
   ]
  },
  {
   "cell_type": "markdown",
   "id": "f985c5b8",
   "metadata": {},
   "source": [
    "### Task 4.4\n"
   ]
  },
  {
   "cell_type": "code",
   "execution_count": 183,
   "id": "313ae6df",
   "metadata": {},
   "outputs": [
    {
     "ename": "ValueError",
     "evalue": "x and y must be the same size",
     "output_type": "error",
     "traceback": [
      "\u001b[0;31m---------------------------------------------------------------------------\u001b[0m",
      "\u001b[0;31mValueError\u001b[0m                                Traceback (most recent call last)",
      "\u001b[0;32m<ipython-input-183-ab8d39752944>\u001b[0m in \u001b[0;36m<module>\u001b[0;34m\u001b[0m\n\u001b[1;32m     13\u001b[0m \u001b[0mres_df\u001b[0m\u001b[0;34m[\u001b[0m\u001b[0;34m'Prediceted'\u001b[0m\u001b[0;34m]\u001b[0m \u001b[0;34m=\u001b[0m \u001b[0mpred\u001b[0m\u001b[0;34m\u001b[0m\u001b[0;34m\u001b[0m\u001b[0m\n\u001b[1;32m     14\u001b[0m \u001b[0;34m\u001b[0m\u001b[0m\n\u001b[0;32m---> 15\u001b[0;31m \u001b[0mplt\u001b[0m\u001b[0;34m.\u001b[0m\u001b[0mscatter\u001b[0m\u001b[0;34m(\u001b[0m\u001b[0mX\u001b[0m\u001b[0;34m,\u001b[0m \u001b[0my\u001b[0m\u001b[0;34m)\u001b[0m\u001b[0;34m\u001b[0m\u001b[0;34m\u001b[0m\u001b[0m\n\u001b[0m\u001b[1;32m     16\u001b[0m \u001b[0mplt\u001b[0m\u001b[0;34m.\u001b[0m\u001b[0mplot\u001b[0m\u001b[0;34m(\u001b[0m\u001b[0mX\u001b[0m\u001b[0;34m,\u001b[0m \u001b[0mpred\u001b[0m\u001b[0;34m,\u001b[0m \u001b[0mcolor\u001b[0m\u001b[0;34m=\u001b[0m\u001b[0;34m'red'\u001b[0m\u001b[0;34m)\u001b[0m\u001b[0;34m\u001b[0m\u001b[0;34m\u001b[0m\u001b[0m\n\u001b[1;32m     17\u001b[0m \u001b[0mplt\u001b[0m\u001b[0;34m.\u001b[0m\u001b[0mshow\u001b[0m\u001b[0;34m(\u001b[0m\u001b[0;34m)\u001b[0m\u001b[0;34m\u001b[0m\u001b[0;34m\u001b[0m\u001b[0m\n",
      "\u001b[0;32m/Library/Frameworks/Python.framework/Versions/3.9/lib/python3.9/site-packages/matplotlib/pyplot.py\u001b[0m in \u001b[0;36mscatter\u001b[0;34m(x, y, s, c, marker, cmap, norm, vmin, vmax, alpha, linewidths, edgecolors, plotnonfinite, data, **kwargs)\u001b[0m\n\u001b[1;32m   3066\u001b[0m         \u001b[0mvmin\u001b[0m\u001b[0;34m=\u001b[0m\u001b[0;32mNone\u001b[0m\u001b[0;34m,\u001b[0m \u001b[0mvmax\u001b[0m\u001b[0;34m=\u001b[0m\u001b[0;32mNone\u001b[0m\u001b[0;34m,\u001b[0m \u001b[0malpha\u001b[0m\u001b[0;34m=\u001b[0m\u001b[0;32mNone\u001b[0m\u001b[0;34m,\u001b[0m \u001b[0mlinewidths\u001b[0m\u001b[0;34m=\u001b[0m\u001b[0;32mNone\u001b[0m\u001b[0;34m,\u001b[0m \u001b[0;34m*\u001b[0m\u001b[0;34m,\u001b[0m\u001b[0;34m\u001b[0m\u001b[0;34m\u001b[0m\u001b[0m\n\u001b[1;32m   3067\u001b[0m         edgecolors=None, plotnonfinite=False, data=None, **kwargs):\n\u001b[0;32m-> 3068\u001b[0;31m     __ret = gca().scatter(\n\u001b[0m\u001b[1;32m   3069\u001b[0m         \u001b[0mx\u001b[0m\u001b[0;34m,\u001b[0m \u001b[0my\u001b[0m\u001b[0;34m,\u001b[0m \u001b[0ms\u001b[0m\u001b[0;34m=\u001b[0m\u001b[0ms\u001b[0m\u001b[0;34m,\u001b[0m \u001b[0mc\u001b[0m\u001b[0;34m=\u001b[0m\u001b[0mc\u001b[0m\u001b[0;34m,\u001b[0m \u001b[0mmarker\u001b[0m\u001b[0;34m=\u001b[0m\u001b[0mmarker\u001b[0m\u001b[0;34m,\u001b[0m \u001b[0mcmap\u001b[0m\u001b[0;34m=\u001b[0m\u001b[0mcmap\u001b[0m\u001b[0;34m,\u001b[0m \u001b[0mnorm\u001b[0m\u001b[0;34m=\u001b[0m\u001b[0mnorm\u001b[0m\u001b[0;34m,\u001b[0m\u001b[0;34m\u001b[0m\u001b[0;34m\u001b[0m\u001b[0m\n\u001b[1;32m   3070\u001b[0m         \u001b[0mvmin\u001b[0m\u001b[0;34m=\u001b[0m\u001b[0mvmin\u001b[0m\u001b[0;34m,\u001b[0m \u001b[0mvmax\u001b[0m\u001b[0;34m=\u001b[0m\u001b[0mvmax\u001b[0m\u001b[0;34m,\u001b[0m \u001b[0malpha\u001b[0m\u001b[0;34m=\u001b[0m\u001b[0malpha\u001b[0m\u001b[0;34m,\u001b[0m \u001b[0mlinewidths\u001b[0m\u001b[0;34m=\u001b[0m\u001b[0mlinewidths\u001b[0m\u001b[0;34m,\u001b[0m\u001b[0;34m\u001b[0m\u001b[0;34m\u001b[0m\u001b[0m\n",
      "\u001b[0;32m/Library/Frameworks/Python.framework/Versions/3.9/lib/python3.9/site-packages/matplotlib/__init__.py\u001b[0m in \u001b[0;36minner\u001b[0;34m(ax, data, *args, **kwargs)\u001b[0m\n\u001b[1;32m   1359\u001b[0m     \u001b[0;32mdef\u001b[0m \u001b[0minner\u001b[0m\u001b[0;34m(\u001b[0m\u001b[0max\u001b[0m\u001b[0;34m,\u001b[0m \u001b[0;34m*\u001b[0m\u001b[0margs\u001b[0m\u001b[0;34m,\u001b[0m \u001b[0mdata\u001b[0m\u001b[0;34m=\u001b[0m\u001b[0;32mNone\u001b[0m\u001b[0;34m,\u001b[0m \u001b[0;34m**\u001b[0m\u001b[0mkwargs\u001b[0m\u001b[0;34m)\u001b[0m\u001b[0;34m:\u001b[0m\u001b[0;34m\u001b[0m\u001b[0;34m\u001b[0m\u001b[0m\n\u001b[1;32m   1360\u001b[0m         \u001b[0;32mif\u001b[0m \u001b[0mdata\u001b[0m \u001b[0;32mis\u001b[0m \u001b[0;32mNone\u001b[0m\u001b[0;34m:\u001b[0m\u001b[0;34m\u001b[0m\u001b[0;34m\u001b[0m\u001b[0m\n\u001b[0;32m-> 1361\u001b[0;31m             \u001b[0;32mreturn\u001b[0m \u001b[0mfunc\u001b[0m\u001b[0;34m(\u001b[0m\u001b[0max\u001b[0m\u001b[0;34m,\u001b[0m \u001b[0;34m*\u001b[0m\u001b[0mmap\u001b[0m\u001b[0;34m(\u001b[0m\u001b[0msanitize_sequence\u001b[0m\u001b[0;34m,\u001b[0m \u001b[0margs\u001b[0m\u001b[0;34m)\u001b[0m\u001b[0;34m,\u001b[0m \u001b[0;34m**\u001b[0m\u001b[0mkwargs\u001b[0m\u001b[0;34m)\u001b[0m\u001b[0;34m\u001b[0m\u001b[0;34m\u001b[0m\u001b[0m\n\u001b[0m\u001b[1;32m   1362\u001b[0m \u001b[0;34m\u001b[0m\u001b[0m\n\u001b[1;32m   1363\u001b[0m         \u001b[0mbound\u001b[0m \u001b[0;34m=\u001b[0m \u001b[0mnew_sig\u001b[0m\u001b[0;34m.\u001b[0m\u001b[0mbind\u001b[0m\u001b[0;34m(\u001b[0m\u001b[0max\u001b[0m\u001b[0;34m,\u001b[0m \u001b[0;34m*\u001b[0m\u001b[0margs\u001b[0m\u001b[0;34m,\u001b[0m \u001b[0;34m**\u001b[0m\u001b[0mkwargs\u001b[0m\u001b[0;34m)\u001b[0m\u001b[0;34m\u001b[0m\u001b[0;34m\u001b[0m\u001b[0m\n",
      "\u001b[0;32m/Library/Frameworks/Python.framework/Versions/3.9/lib/python3.9/site-packages/matplotlib/axes/_axes.py\u001b[0m in \u001b[0;36mscatter\u001b[0;34m(self, x, y, s, c, marker, cmap, norm, vmin, vmax, alpha, linewidths, edgecolors, plotnonfinite, **kwargs)\u001b[0m\n\u001b[1;32m   4496\u001b[0m         \u001b[0my\u001b[0m \u001b[0;34m=\u001b[0m \u001b[0mnp\u001b[0m\u001b[0;34m.\u001b[0m\u001b[0mma\u001b[0m\u001b[0;34m.\u001b[0m\u001b[0mravel\u001b[0m\u001b[0;34m(\u001b[0m\u001b[0my\u001b[0m\u001b[0;34m)\u001b[0m\u001b[0;34m\u001b[0m\u001b[0;34m\u001b[0m\u001b[0m\n\u001b[1;32m   4497\u001b[0m         \u001b[0;32mif\u001b[0m \u001b[0mx\u001b[0m\u001b[0;34m.\u001b[0m\u001b[0msize\u001b[0m \u001b[0;34m!=\u001b[0m \u001b[0my\u001b[0m\u001b[0;34m.\u001b[0m\u001b[0msize\u001b[0m\u001b[0;34m:\u001b[0m\u001b[0;34m\u001b[0m\u001b[0;34m\u001b[0m\u001b[0m\n\u001b[0;32m-> 4498\u001b[0;31m             \u001b[0;32mraise\u001b[0m \u001b[0mValueError\u001b[0m\u001b[0;34m(\u001b[0m\u001b[0;34m\"x and y must be the same size\"\u001b[0m\u001b[0;34m)\u001b[0m\u001b[0;34m\u001b[0m\u001b[0;34m\u001b[0m\u001b[0m\n\u001b[0m\u001b[1;32m   4499\u001b[0m \u001b[0;34m\u001b[0m\u001b[0m\n\u001b[1;32m   4500\u001b[0m         \u001b[0;32mif\u001b[0m \u001b[0ms\u001b[0m \u001b[0;32mis\u001b[0m \u001b[0;32mNone\u001b[0m\u001b[0;34m:\u001b[0m\u001b[0;34m\u001b[0m\u001b[0;34m\u001b[0m\u001b[0m\n",
      "\u001b[0;31mValueError\u001b[0m: x and y must be the same size"
     ]
    },
    {
     "data": {
      "image/png": "[encoded data removed]",
      "text/plain": [
       "<Figure size 432x288 with 1 Axes>"
      ]
     },
     "metadata": {
      "needs_background": "light"
     },
     "output_type": "display_data"
    }
   ],
   "source": [
    "\n",
    "\n",
    "X = score_df[['engagment_score', 'experience_score']]\n",
    "y = score_df[['satisfaction_score']]\n",
    "\n",
    "linear_reg = LinearRegression()\n",
    "\n",
    "linear_reg.fit(X, y)\n",
    "pred = linear_reg.predict(X)\n",
    "\n"
   ]
  },
  {
   "cell_type": "code",
   "execution_count": 169,
   "id": "d18a698b",
   "metadata": {},
   "outputs": [
    {
     "data": {
      "text/html": [
       "<div>\n",
       "<style scoped>\n",
       "    .dataframe tbody tr th:only-of-type {\n",
       "        vertical-align: middle;\n",
       "    }\n",
       "\n",
       "    .dataframe tbody tr th {\n",
       "        vertical-align: top;\n",
       "    }\n",
       "\n",
       "    .dataframe thead th {\n",
       "        text-align: right;\n",
       "    }\n",
       "</style>\n",
       "<table border=\"1\" class=\"dataframe\">\n",
       "  <thead>\n",
       "    <tr style=\"text-align: right;\">\n",
       "      <th></th>\n",
       "      <th>satisfaction_score</th>\n",
       "    </tr>\n",
       "  </thead>\n",
       "  <tbody>\n",
       "    <tr>\n",
       "      <th>0</th>\n",
       "      <td>1968691405.347058</td>\n",
       "    </tr>\n",
       "    <tr>\n",
       "      <th>1</th>\n",
       "      <td>1499101972.529379</td>\n",
       "    </tr>\n",
       "    <tr>\n",
       "      <th>2</th>\n",
       "      <td>1626947269.541005</td>\n",
       "    </tr>\n",
       "    <tr>\n",
       "      <th>3</th>\n",
       "      <td>1449644575.461339</td>\n",
       "    </tr>\n",
       "    <tr>\n",
       "      <th>4</th>\n",
       "      <td>2537284207.736423</td>\n",
       "    </tr>\n",
       "    <tr>\n",
       "      <th>...</th>\n",
       "      <td>...</td>\n",
       "    </tr>\n",
       "    <tr>\n",
       "      <th>105714</th>\n",
       "      <td>1471079786.868932</td>\n",
       "    </tr>\n",
       "    <tr>\n",
       "      <th>105715</th>\n",
       "      <td>2229866601.461836</td>\n",
       "    </tr>\n",
       "    <tr>\n",
       "      <th>105716</th>\n",
       "      <td>1780583133.617267</td>\n",
       "    </tr>\n",
       "    <tr>\n",
       "      <th>105717</th>\n",
       "      <td>1492937999.427085</td>\n",
       "    </tr>\n",
       "    <tr>\n",
       "      <th>105718</th>\n",
       "      <td>1627330797.756541</td>\n",
       "    </tr>\n",
       "  </tbody>\n",
       "</table>\n",
       "<p>105719 rows × 1 columns</p>\n",
       "</div>"
      ],
      "text/plain": [
       "        satisfaction_score\n",
       "0        1968691405.347058\n",
       "1        1499101972.529379\n",
       "2        1626947269.541005\n",
       "3        1449644575.461339\n",
       "4        2537284207.736423\n",
       "...                    ...\n",
       "105714   1471079786.868932\n",
       "105715   2229866601.461836\n",
       "105716   1780583133.617267\n",
       "105717   1492937999.427085\n",
       "105718   1627330797.756541\n",
       "\n",
       "[105719 rows x 1 columns]"
      ]
     },
     "execution_count": 169,
     "metadata": {},
     "output_type": "execute_result"
    }
   ],
   "source": [
    "y"
   ]
  },
  {
   "cell_type": "markdown",
   "id": "5371df3f",
   "metadata": {},
   "source": [
    "### Task 4.4"
   ]
  },
  {
   "cell_type": "markdown",
   "id": "e357a179",
   "metadata": {},
   "source": [
    "Run a k-means (k=2) on the engagement & the experience score . \n"
   ]
  },
  {
   "cell_type": "markdown",
   "id": "95fab6c2",
   "metadata": {},
   "source": [
    "#### First let's detect outliers"
   ]
  },
  {
   "cell_type": "code",
   "execution_count": 103,
   "id": "dc9ddb9d",
   "metadata": {},
   "outputs": [
    {
     "data": {
      "image/png": "[encoded data removed]",
      "text/plain": [
       "<Figure size 864x504 with 1 Axes>"
      ]
     },
     "metadata": {
      "needs_background": "light"
     },
     "output_type": "display_data"
    }
   ],
   "source": [
    "plots.plot_box(df=score_df, x_col=\"engagment_score\", title=\"Outlier detection for engagment score\")"
   ]
  },
  {
   "cell_type": "markdown",
   "id": "2a52d6f4",
   "metadata": {},
   "source": [
    "We can see that engagment socre doese not have siginificant outlier"
   ]
  },
  {
   "cell_type": "code",
   "execution_count": 104,
   "id": "91aba2cd",
   "metadata": {},
   "outputs": [
    {
     "data": {
      "image/png": "[encoded data removed]",
      "text/plain": [
       "<Figure size 864x504 with 1 Axes>"
      ]
     },
     "metadata": {
      "needs_background": "light"
     },
     "output_type": "display_data"
    }
   ],
   "source": [
    "plots.plot_box(df=score_df, x_col=\"experience_score\", title=\"Outlier detection for engagment score\")"
   ]
  },
  {
   "cell_type": "markdown",
   "id": "0bd6f6ea",
   "metadata": {},
   "source": [
    "experience_score has significant outliers so we need to handle that"
   ]
  },
  {
   "cell_type": "code",
   "execution_count": 108,
   "id": "0744cf2e",
   "metadata": {},
   "outputs": [],
   "source": [
    "def handle_outliers(df, col, method=\"lower_upper\"):\n",
    "    df = df.copy()\n",
    "    q1 = df[col].quantile(0.25)\n",
    "    q3 = df[col].quantile(0.75)\n",
    "    \n",
    "    lower_bound = q1 - ((1.5) * (q3 - q1))\n",
    "    upper_bound = q3 + ((1.5) * (q3 - q1))\n",
    "    \n",
    "    if method == \"mean\":\n",
    "        df[col] = np.where(df[col] < lower_bound,   df[col].mean(), df[col])\n",
    "        df[col] = np.where(df[col] > upper_bound, df[col].mean(), df[col])\n",
    "    \n",
    "    elif  method == \"mode\":\n",
    "        df[col] = np.where(df[col] < lower_bound,   df[col].mode()[0], df[col])\n",
    "        df[col] = np.where(df[col] > upper_bound, df[col].mode()[0], df[col])\n",
    "    else:\n",
    "        df[col] = np.where(df[col] < lower_bound, lower_bound, df[col])\n",
    "        df[col] = np.where(df[col] > upper_bound, upper_bound, df[col])\n",
    "    \n",
    "    return df"
   ]
  },
  {
   "cell_type": "code",
   "execution_count": 123,
   "id": "3613aa16",
   "metadata": {},
   "outputs": [],
   "source": [
    "score_df_2 = score_df.copy()[['engagment_score', 'experience_score']]\n",
    "\n",
    "cleaned_score_df_df = handle_outliers(score_df_2, 'experience_score', method=\"lower_upper\")"
   ]
  },
  {
   "cell_type": "code",
   "execution_count": 124,
   "id": "ce71ac4f",
   "metadata": {},
   "outputs": [
    {
     "data": {
      "image/png": "[encoded data removed]",
      "text/plain": [
       "<Figure size 864x504 with 1 Axes>"
      ]
     },
     "metadata": {
      "needs_background": "light"
     },
     "output_type": "display_data"
    }
   ],
   "source": [
    "\n",
    "plots.plot_box(df=cleaned_score_df_df, x_col=\"experience_score\", title=\"Outlier detection for engagment score\")\n",
    "\n"
   ]
  },
  {
   "cell_type": "markdown",
   "id": "2cf5ab38",
   "metadata": {},
   "source": [
    "Normaliztion of cloumns"
   ]
  },
  {
   "cell_type": "code",
   "execution_count": 125,
   "id": "9adccc7b",
   "metadata": {},
   "outputs": [],
   "source": [
    "def normalizer(df, columns):\n",
    "    norm = Normalizer()\n",
    "    return pd.DataFrame(norm.fit_transform(df), columns=columns)\n",
    "\n",
    "def scaler(df, columns):\n",
    "    minmax_scaler = MinMaxScaler()\n",
    "    return pd.DataFrame(minmax_scaler.fit_transform(df), columns=columns)\n",
    "\n",
    "def scale_and_normalize(df,columns ):\n",
    "    return normalizer(scaler(df, columns), columns)"
   ]
  },
  {
   "cell_type": "code",
   "execution_count": 130,
   "id": "92d743e0",
   "metadata": {},
   "outputs": [
    {
     "data": {
      "text/html": [
       "<div>\n",
       "<style scoped>\n",
       "    .dataframe tbody tr th:only-of-type {\n",
       "        vertical-align: middle;\n",
       "    }\n",
       "\n",
       "    .dataframe tbody tr th {\n",
       "        vertical-align: top;\n",
       "    }\n",
       "\n",
       "    .dataframe thead th {\n",
       "        text-align: right;\n",
       "    }\n",
       "</style>\n",
       "<table border=\"1\" class=\"dataframe\">\n",
       "  <thead>\n",
       "    <tr style=\"text-align: right;\">\n",
       "      <th></th>\n",
       "      <th>engagment_score</th>\n",
       "      <th>experience_score</th>\n",
       "    </tr>\n",
       "  </thead>\n",
       "  <tbody>\n",
       "    <tr>\n",
       "      <th>count</th>\n",
       "      <td>105719.000000</td>\n",
       "      <td>105719.000000</td>\n",
       "    </tr>\n",
       "    <tr>\n",
       "      <th>mean</th>\n",
       "      <td>0.407042</td>\n",
       "      <td>0.782325</td>\n",
       "    </tr>\n",
       "    <tr>\n",
       "      <th>std</th>\n",
       "      <td>0.342008</td>\n",
       "      <td>0.324527</td>\n",
       "    </tr>\n",
       "    <tr>\n",
       "      <th>min</th>\n",
       "      <td>0.000000</td>\n",
       "      <td>0.000000</td>\n",
       "    </tr>\n",
       "    <tr>\n",
       "      <th>25%</th>\n",
       "      <td>0.092019</td>\n",
       "      <td>0.730879</td>\n",
       "    </tr>\n",
       "    <tr>\n",
       "      <th>50%</th>\n",
       "      <td>0.316050</td>\n",
       "      <td>0.948743</td>\n",
       "    </tr>\n",
       "    <tr>\n",
       "      <th>75%</th>\n",
       "      <td>0.682507</td>\n",
       "      <td>0.995757</td>\n",
       "    </tr>\n",
       "    <tr>\n",
       "      <th>max</th>\n",
       "      <td>1.000000</td>\n",
       "      <td>1.000000</td>\n",
       "    </tr>\n",
       "  </tbody>\n",
       "</table>\n",
       "</div>"
      ],
      "text/plain": [
       "       engagment_score  experience_score\n",
       "count    105719.000000     105719.000000\n",
       "mean          0.407042          0.782325\n",
       "std           0.342008          0.324527\n",
       "min           0.000000          0.000000\n",
       "25%           0.092019          0.730879\n",
       "50%           0.316050          0.948743\n",
       "75%           0.682507          0.995757\n",
       "max           1.000000          1.000000"
      ]
     },
     "execution_count": 130,
     "metadata": {},
     "output_type": "execute_result"
    }
   ],
   "source": [
    "normalized_data = scale_and_normalize(cleaned_score_df_df, ['engagment_score', 'experience_score'])\n",
    "normalized_data.describe()"
   ]
  },
  {
   "cell_type": "markdown",
   "id": "6bfc0a60",
   "metadata": {},
   "source": [
    "Clustering engagement & the experience score using k=2"
   ]
  },
  {
   "cell_type": "code",
   "execution_count": 134,
   "id": "e3384c28",
   "metadata": {},
   "outputs": [
    {
     "data": {
      "text/plain": [
       "1    78937\n",
       "0    26782\n",
       "Name: clusters, dtype: int64"
      ]
     },
     "execution_count": 134,
     "metadata": {},
     "output_type": "execute_result"
    }
   ],
   "source": [
    "kmeans = KMeans(n_clusters=2, init='k-means++').fit(normalized_data)\n",
    "pred = kmeans.predict(normalized_data)\n",
    "\n",
    "culstered_score_df = score_df.copy()\n",
    "culstered_score_df['clusters'] = pred\n",
    "culstered_score_df['clusters'].value_counts()"
   ]
  },
  {
   "cell_type": "code",
   "execution_count": 157,
   "id": "03077348",
   "metadata": {},
   "outputs": [
    {
     "data": {
      "image/png": "[encoded data removed]",
      "text/plain": [
       "<Figure size 720x504 with 1 Axes>"
      ]
     },
     "metadata": {
      "needs_background": "light"
     },
     "output_type": "display_data"
    }
   ],
   "source": [
    "plt.figure(figsize=(10,7))\n",
    "\n",
    "\n",
    "p = sns.scatterplot(x = 'engagment_score', y='experience_score',\n",
    "                hue='clusters', data=culstered_score_df).set_title('Clusters of user engagement metric')\n",
    "\n",
    "# plt.show()"
   ]
  },
  {
   "cell_type": "code",
   "execution_count": null,
   "id": "bf46086a",
   "metadata": {},
   "outputs": [],
   "source": []
  }
 ],
 "metadata": {
  "kernelspec": {
   "display_name": "Python 3",
   "language": "python",
   "name": "python3"
  },
  "language_info": {
   "codemirror_mode": {
    "name": "ipython",
    "version": 3
   },
   "file_extension": ".py",
   "mimetype": "text/x-python",
   "name": "python",
   "nbconvert_exporter": "python",
   "pygments_lexer": "ipython3",
   "version": "3.9.4"
  }
 },
 "nbformat": 4,
 "nbformat_minor": 5
}
